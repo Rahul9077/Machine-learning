{
 "cells": [
  {
   "cell_type": "code",
   "execution_count": 2,
   "metadata": {},
   "outputs": [],
   "source": [
    "import pandas as pd\n",
    "import numpy as np\n",
    "from bs4 import BeautifulSoup as Soup\n",
    "from requests import get"
   ]
  },
  {
   "cell_type": "code",
   "execution_count": 5,
   "metadata": {},
   "outputs": [],
   "source": [
    "pages = np.arange(1,477,30)"
   ]
  },
  {
   "cell_type": "code",
   "execution_count": 6,
   "metadata": {},
   "outputs": [
    {
     "data": {
      "text/plain": [
       "array([  1,  31,  61,  91, 121, 151, 181, 211, 241, 271, 301, 331, 361,\n",
       "       391, 421, 451])"
      ]
     },
     "execution_count": 6,
     "metadata": {},
     "output_type": "execute_result"
    }
   ],
   "source": [
    "pages"
   ]
  },
  {
   "cell_type": "code",
   "execution_count": 16,
   "metadata": {},
   "outputs": [
    {
     "name": "stdout",
     "output_type": "stream",
     "text": [
      "no\n",
      "no\n",
      "no\n",
      "no\n",
      "no\n",
      "no\n",
      "no\n",
      "no\n",
      "no\n",
      "no\n",
      "no\n",
      "no\n",
      "no\n",
      "no\n",
      "no\n",
      "no\n"
     ]
    }
   ],
   "source": [
    "Company = []\n",
    "Revenue = []\n",
    "No_of_employees = []\n",
    "location = []\n",
    "rating = []\n",
    "no_of_reviews = []\n",
    "former_clients = []\n",
    "for page in pages:\n",
    "    url= get(\"https://themanifest.com/in/it-services/companies?page=\"+str(page)+\"\")\n",
    "    request=url.text\n",
    "    data=Soup(request,'html.parser')\n",
    "    comp = data.findAll('li',{'class':'views-row'})\n",
    "    for i in comp:\n",
    "        if i == comp[1]:\n",
    "            print('no')\n",
    "        else:\n",
    "            Company.append(i.find('span',{'class':''}).text)\n",
    "            Revenue.append(i.find('span',{'class':'prj-size'}).text.split()[0])\n",
    "            No_of_employees.append(i.find('span',{'class':'empl'}).text)\n",
    "            location.append(i.find('span',{'class':'comp-addr'}).text)\n",
    "            rating.append(i.find('div',{'class':'widget-total-reviews'}).text)\n",
    "            no_of_reviews.append(i.find('span',{'class':'count'}).text.split()[0])\n",
    "            try:\n",
    "                former_clients.append(i.findAll('div',{'class':'field--item'})[1].text.split()[0])\n",
    "            except:\n",
    "                former_clients.append('No Clients')"
   ]
  },
  {
   "cell_type": "code",
   "execution_count": 17,
   "metadata": {},
   "outputs": [],
   "source": [
    "Comp_Data = list(zip(Company,Revenue,No_of_employees,location,rating,no_of_reviews,former_clients))"
   ]
  },
  {
   "cell_type": "code",
   "execution_count": 18,
   "metadata": {},
   "outputs": [],
   "source": [
    "df = pd.DataFrame(Comp_Data,columns=['Company','Revenue','No_of_employees','location','rating','no_of_reviews','former_clients'])"
   ]
  },
  {
   "cell_type": "code",
   "execution_count": 19,
   "metadata": {},
   "outputs": [
    {
     "data": {
      "text/html": [
       "<div>\n",
       "<style scoped>\n",
       "    .dataframe tbody tr th:only-of-type {\n",
       "        vertical-align: middle;\n",
       "    }\n",
       "\n",
       "    .dataframe tbody tr th {\n",
       "        vertical-align: top;\n",
       "    }\n",
       "\n",
       "    .dataframe thead th {\n",
       "        text-align: right;\n",
       "    }\n",
       "</style>\n",
       "<table border=\"1\" class=\"dataframe\">\n",
       "  <thead>\n",
       "    <tr style=\"text-align: right;\">\n",
       "      <th></th>\n",
       "      <th>Company</th>\n",
       "      <th>Revenue</th>\n",
       "      <th>No_of_employees</th>\n",
       "      <th>location</th>\n",
       "      <th>rating</th>\n",
       "      <th>no_of_reviews</th>\n",
       "      <th>former_clients</th>\n",
       "    </tr>\n",
       "  </thead>\n",
       "  <tbody>\n",
       "    <tr>\n",
       "      <th>0</th>\n",
       "      <td>Surekha Technologies Pvt Ltd</td>\n",
       "      <td>$5,000+</td>\n",
       "      <td>10 - 49 Employees</td>\n",
       "      <td>Ahmedabad, India</td>\n",
       "      <td>4.9</td>\n",
       "      <td>5</td>\n",
       "      <td>ValueHub</td>\n",
       "    </tr>\n",
       "    <tr>\n",
       "      <th>1</th>\n",
       "      <td>Jobin And Jismi IT Services LLP</td>\n",
       "      <td>$1,000+</td>\n",
       "      <td>50 - 249 Employees</td>\n",
       "      <td>Thrissur, India</td>\n",
       "      <td>5.0</td>\n",
       "      <td>5</td>\n",
       "      <td>No Clients</td>\n",
       "    </tr>\n",
       "    <tr>\n",
       "      <th>2</th>\n",
       "      <td>PopcornApps</td>\n",
       "      <td>Undisclosed</td>\n",
       "      <td>250 - 999 Employees</td>\n",
       "      <td>Hyderabad, India</td>\n",
       "      <td>4.3</td>\n",
       "      <td>3</td>\n",
       "      <td>Intel</td>\n",
       "    </tr>\n",
       "    <tr>\n",
       "      <th>3</th>\n",
       "      <td>DataFactZ</td>\n",
       "      <td>$10,000+</td>\n",
       "      <td>250 - 999 Employees</td>\n",
       "      <td>Hyderabad, India</td>\n",
       "      <td>4.7</td>\n",
       "      <td>6</td>\n",
       "      <td>Coca</td>\n",
       "    </tr>\n",
       "    <tr>\n",
       "      <th>4</th>\n",
       "      <td>ABSYZ</td>\n",
       "      <td>$5,000+</td>\n",
       "      <td>10 - 49 Employees</td>\n",
       "      <td>Hyderabad, India</td>\n",
       "      <td>5.0</td>\n",
       "      <td>1</td>\n",
       "      <td>Report</td>\n",
       "    </tr>\n",
       "    <tr>\n",
       "      <th>...</th>\n",
       "      <td>...</td>\n",
       "      <td>...</td>\n",
       "      <td>...</td>\n",
       "      <td>...</td>\n",
       "      <td>...</td>\n",
       "      <td>...</td>\n",
       "      <td>...</td>\n",
       "    </tr>\n",
       "    <tr>\n",
       "      <th>415</th>\n",
       "      <td>Nanovise Inc.</td>\n",
       "      <td>$1,000+</td>\n",
       "      <td>10 - 49 Employees</td>\n",
       "      <td>Bhubaneswar, India</td>\n",
       "      <td>4.5</td>\n",
       "      <td>1</td>\n",
       "      <td>No Clients</td>\n",
       "    </tr>\n",
       "    <tr>\n",
       "      <th>416</th>\n",
       "      <td>INEXTURE Solutions LLP</td>\n",
       "      <td>$10,000+</td>\n",
       "      <td>50 - 249 Employees</td>\n",
       "      <td>Ahmedabad, India</td>\n",
       "      <td>5.0</td>\n",
       "      <td>1</td>\n",
       "      <td>MeeTwo</td>\n",
       "    </tr>\n",
       "    <tr>\n",
       "      <th>417</th>\n",
       "      <td>InfiDoor Technologies</td>\n",
       "      <td>$1,000+</td>\n",
       "      <td>2 - 9 Employees</td>\n",
       "      <td>, India</td>\n",
       "      <td>5.0</td>\n",
       "      <td>1</td>\n",
       "      <td>Chahai</td>\n",
       "    </tr>\n",
       "    <tr>\n",
       "      <th>418</th>\n",
       "      <td>ONE SEO</td>\n",
       "      <td>$1,000+</td>\n",
       "      <td>10 - 49 Employees</td>\n",
       "      <td>Jaipur, India</td>\n",
       "      <td>5.0</td>\n",
       "      <td>1</td>\n",
       "      <td>Hexagon</td>\n",
       "    </tr>\n",
       "    <tr>\n",
       "      <th>419</th>\n",
       "      <td>Augmetic Technology</td>\n",
       "      <td>$1,000+</td>\n",
       "      <td>10 - 49 Employees</td>\n",
       "      <td>Ahmedabad, India</td>\n",
       "      <td>5.0</td>\n",
       "      <td>2</td>\n",
       "      <td>No Clients</td>\n",
       "    </tr>\n",
       "  </tbody>\n",
       "</table>\n",
       "<p>420 rows × 7 columns</p>\n",
       "</div>"
      ],
      "text/plain": [
       "                             Company      Revenue      No_of_employees  \\\n",
       "0       Surekha Technologies Pvt Ltd      $5,000+    10 - 49 Employees   \n",
       "1    Jobin And Jismi IT Services LLP      $1,000+   50 - 249 Employees   \n",
       "2                        PopcornApps  Undisclosed  250 - 999 Employees   \n",
       "3                          DataFactZ     $10,000+  250 - 999 Employees   \n",
       "4                              ABSYZ      $5,000+    10 - 49 Employees   \n",
       "..                               ...          ...                  ...   \n",
       "415                    Nanovise Inc.      $1,000+    10 - 49 Employees   \n",
       "416           INEXTURE Solutions LLP     $10,000+   50 - 249 Employees   \n",
       "417            InfiDoor Technologies      $1,000+      2 - 9 Employees   \n",
       "418                          ONE SEO      $1,000+    10 - 49 Employees   \n",
       "419              Augmetic Technology      $1,000+    10 - 49 Employees   \n",
       "\n",
       "               location rating no_of_reviews former_clients  \n",
       "0      Ahmedabad, India    4.9             5       ValueHub  \n",
       "1       Thrissur, India    5.0             5     No Clients  \n",
       "2      Hyderabad, India    4.3             3          Intel  \n",
       "3      Hyderabad, India    4.7             6           Coca  \n",
       "4      Hyderabad, India    5.0             1         Report  \n",
       "..                  ...    ...           ...            ...  \n",
       "415  Bhubaneswar, India    4.5             1     No Clients  \n",
       "416    Ahmedabad, India    5.0             1         MeeTwo  \n",
       "417             , India    5.0             1         Chahai  \n",
       "418       Jaipur, India    5.0             1        Hexagon  \n",
       "419    Ahmedabad, India    5.0             2     No Clients  \n",
       "\n",
       "[420 rows x 7 columns]"
      ]
     },
     "execution_count": 19,
     "metadata": {},
     "output_type": "execute_result"
    }
   ],
   "source": [
    "df"
   ]
  },
  {
   "cell_type": "code",
   "execution_count": 20,
   "metadata": {},
   "outputs": [],
   "source": [
    "df.to_csv(\"Top_100_companies.csv\")"
   ]
  },
  {
   "cell_type": "code",
   "execution_count": null,
   "metadata": {},
   "outputs": [],
   "source": []
  }
 ],
 "metadata": {
  "kernelspec": {
   "display_name": "Python 3",
   "language": "python",
   "name": "python3"
  },
  "language_info": {
   "codemirror_mode": {
    "name": "ipython",
    "version": 3
   },
   "file_extension": ".py",
   "mimetype": "text/x-python",
   "name": "python",
   "nbconvert_exporter": "python",
   "pygments_lexer": "ipython3",
   "version": "3.8.5"
  }
 },
 "nbformat": 4,
 "nbformat_minor": 4
}
