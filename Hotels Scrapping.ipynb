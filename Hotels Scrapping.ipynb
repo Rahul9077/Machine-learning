{
 "cells": [
  {
   "cell_type": "code",
   "execution_count": 1,
   "metadata": {},
   "outputs": [],
   "source": [
    "import pandas as pd\n",
    "import numpy as np\n",
    "from bs4 import BeautifulSoup as Soup\n",
    "from requests import get"
   ]
  },
  {
   "cell_type": "code",
   "execution_count": 33,
   "metadata": {},
   "outputs": [],
   "source": [
    "url = get(\"https://www.partykaro.com/PartyVenue/Delhi/AllVenueType/default.aspx?Capacity=201-300&page=1\")"
   ]
  },
  {
   "cell_type": "code",
   "execution_count": 34,
   "metadata": {},
   "outputs": [],
   "source": [
    "request = url.text"
   ]
  },
  {
   "cell_type": "code",
   "execution_count": 35,
   "metadata": {},
   "outputs": [],
   "source": [
    "data = Soup(request,'html.parser')"
   ]
  },
  {
   "cell_type": "code",
   "execution_count": 36,
   "metadata": {},
   "outputs": [],
   "source": [
    "rest = data.findAll('div',{'class':'col-md-4 w3ls-left'})"
   ]
  },
  {
   "cell_type": "code",
   "execution_count": 37,
   "metadata": {},
   "outputs": [],
   "source": [
    "first = rest[0]"
   ]
  },
  {
   "cell_type": "code",
   "execution_count": 38,
   "metadata": {},
   "outputs": [
    {
     "data": {
      "text/plain": [
       "'4.8'"
      ]
     },
     "execution_count": 38,
     "metadata": {},
     "output_type": "execute_result"
    }
   ],
   "source": [
    "first.find('span',{'class':'StarRating center1 rating-4 regular'}).text.strip()   # rating"
   ]
  },
  {
   "cell_type": "code",
   "execution_count": 39,
   "metadata": {},
   "outputs": [
    {
     "data": {
      "text/plain": [
       "'Banquet Halls'"
      ]
     },
     "execution_count": 39,
     "metadata": {},
     "output_type": "execute_result"
    }
   ],
   "source": [
    "first.find('span',{'class':'venue-type'}).text #type"
   ]
  },
  {
   "cell_type": "code",
   "execution_count": 40,
   "metadata": {},
   "outputs": [
    {
     "data": {
      "text/plain": [
       "'Sanskriti Banquet and ...'"
      ]
     },
     "execution_count": 40,
     "metadata": {},
     "output_type": "execute_result"
    }
   ],
   "source": [
    "first.find('h2',{'class':'clientname'}).text.strip() #name"
   ]
  },
  {
   "cell_type": "code",
   "execution_count": 41,
   "metadata": {},
   "outputs": [
    {
     "data": {
      "text/plain": [
       "'Mundka Delhi - 110041'"
      ]
     },
     "execution_count": 41,
     "metadata": {},
     "output_type": "execute_result"
    }
   ],
   "source": [
    "first.find('span',{'class':''}).text #location"
   ]
  },
  {
   "cell_type": "code",
   "execution_count": 51,
   "metadata": {},
   "outputs": [
    {
     "data": {
      "text/plain": [
       "'100-2000 Pax.'"
      ]
     },
     "execution_count": 51,
     "metadata": {},
     "output_type": "execute_result"
    }
   ],
   "source": [
    "first.findAll('span',{'class':'spantag'})[1].text  #capacity"
   ]
  },
  {
   "cell_type": "code",
   "execution_count": 54,
   "metadata": {},
   "outputs": [
    {
     "data": {
      "text/plain": [
       "'1200.00'"
      ]
     },
     "execution_count": 54,
     "metadata": {},
     "output_type": "execute_result"
    }
   ],
   "source": [
    "first.find('span',{'id':'lblCostPerPerson1'}).text #charges per person"
   ]
  },
  {
   "cell_type": "code",
   "execution_count": 55,
   "metadata": {},
   "outputs": [],
   "source": [
    "pages = np.arange(1,10)"
   ]
  },
  {
   "cell_type": "code",
   "execution_count": 56,
   "metadata": {},
   "outputs": [
    {
     "data": {
      "text/plain": [
       "array([1, 2, 3, 4, 5, 6, 7, 8, 9])"
      ]
     },
     "execution_count": 56,
     "metadata": {},
     "output_type": "execute_result"
    }
   ],
   "source": [
    "pages"
   ]
  },
  {
   "cell_type": "code",
   "execution_count": 57,
   "metadata": {},
   "outputs": [],
   "source": [
    "Name = []\n",
    "Type = []\n",
    "Rating = []\n",
    "Location = []\n",
    "Capacity = []\n",
    "Charges_per_person = []\n",
    "for page in pages:\n",
    "    url = get(\"https://www.partykaro.com/PartyVenue/Delhi/AllVenueType/default.aspx?Capacity=201-300&page=\"+str(page)+\"\")\n",
    "    request = url.text\n",
    "    data = Soup(request,'html.parser')\n",
    "    rest = data.findAll('div',{'class':'col-md-4 w3ls-left'})\n",
    "    for i in rest:\n",
    "        Name.append(i.find('h2',{'class':'clientname'}).text.strip())\n",
    "        Type.append(i.find('span',{'class':'venue-type'}).text)\n",
    "        try:\n",
    "            Rating.append(i.find('span',{'class':'StarRating center1 rating-4 regular'}).text.strip() )\n",
    "        except:\n",
    "            Rating.append(\"Unrated\")\n",
    "        Location.append(i.find('span',{'class':''}).text)\n",
    "        Capacity.append(i.findAll('span',{'class':'spantag'})[1].text)\n",
    "        try:\n",
    "            Charges_per_person.append(i.find('span',{'id':'lblCostPerPerson1'}).text)\n",
    "        except:\n",
    "            Charges_per_person.append(\"Not Specified\")"
   ]
  },
  {
   "cell_type": "code",
   "execution_count": 58,
   "metadata": {},
   "outputs": [],
   "source": [
    "dt = list(zip(Name,Type,Rating,Location,Capacity,Charges_per_person))"
   ]
  },
  {
   "cell_type": "code",
   "execution_count": 59,
   "metadata": {},
   "outputs": [],
   "source": [
    "df = pd.DataFrame(dt,columns=['Name','Type','Rating','Location','Capacity','Charges_per_person'])"
   ]
  },
  {
   "cell_type": "code",
   "execution_count": 60,
   "metadata": {},
   "outputs": [
    {
     "data": {
      "text/html": [
       "<div>\n",
       "<style scoped>\n",
       "    .dataframe tbody tr th:only-of-type {\n",
       "        vertical-align: middle;\n",
       "    }\n",
       "\n",
       "    .dataframe tbody tr th {\n",
       "        vertical-align: top;\n",
       "    }\n",
       "\n",
       "    .dataframe thead th {\n",
       "        text-align: right;\n",
       "    }\n",
       "</style>\n",
       "<table border=\"1\" class=\"dataframe\">\n",
       "  <thead>\n",
       "    <tr style=\"text-align: right;\">\n",
       "      <th></th>\n",
       "      <th>Name</th>\n",
       "      <th>Type</th>\n",
       "      <th>Rating</th>\n",
       "      <th>Location</th>\n",
       "      <th>Capacity</th>\n",
       "      <th>Charges_per_person</th>\n",
       "    </tr>\n",
       "  </thead>\n",
       "  <tbody>\n",
       "    <tr>\n",
       "      <th>0</th>\n",
       "      <td>Priyanka Party Hall</td>\n",
       "      <td>Banquet Halls</td>\n",
       "      <td>4.9</td>\n",
       "      <td>Dwarka Delhi - 110075</td>\n",
       "      <td>50-550 Pax.</td>\n",
       "      <td>1100.00</td>\n",
       "    </tr>\n",
       "    <tr>\n",
       "      <th>1</th>\n",
       "      <td>The Panchshila Rendez ...</td>\n",
       "      <td>Banquet Halls</td>\n",
       "      <td>4.6</td>\n",
       "      <td>Malviya Nagar Delhi - 110017</td>\n",
       "      <td>30-250 Pax.</td>\n",
       "      <td>1400.00</td>\n",
       "    </tr>\n",
       "    <tr>\n",
       "      <th>2</th>\n",
       "      <td>Le Diamonds</td>\n",
       "      <td>Banquet Halls</td>\n",
       "      <td>4.6</td>\n",
       "      <td>Yamuna Vihar Delhi - 110053</td>\n",
       "      <td>100-1500 Pax.</td>\n",
       "      <td>1100.00</td>\n",
       "    </tr>\n",
       "    <tr>\n",
       "      <th>3</th>\n",
       "      <td>Landmarx banquet</td>\n",
       "      <td>Banquet Halls</td>\n",
       "      <td>4.0</td>\n",
       "      <td>Peeragarhi Delhi - 110041</td>\n",
       "      <td>30-700 Pax.</td>\n",
       "      <td>700.00</td>\n",
       "    </tr>\n",
       "    <tr>\n",
       "      <th>4</th>\n",
       "      <td>Cafe After Hours</td>\n",
       "      <td>Restaurant</td>\n",
       "      <td>4.5</td>\n",
       "      <td>Paschim Vihar Delhi - 110063</td>\n",
       "      <td>10-300 Pax.</td>\n",
       "      <td>700.00</td>\n",
       "    </tr>\n",
       "    <tr>\n",
       "      <th>...</th>\n",
       "      <td>...</td>\n",
       "      <td>...</td>\n",
       "      <td>...</td>\n",
       "      <td>...</td>\n",
       "      <td>...</td>\n",
       "      <td>...</td>\n",
       "    </tr>\n",
       "    <tr>\n",
       "      <th>255</th>\n",
       "      <td>SK Westend Banquets</td>\n",
       "      <td>Banquet Halls</td>\n",
       "      <td>0.0</td>\n",
       "      <td>Janakpuri Delhi - 110058</td>\n",
       "      <td>100-1000 Pax.</td>\n",
       "      <td>1200.00</td>\n",
       "    </tr>\n",
       "    <tr>\n",
       "      <th>256</th>\n",
       "      <td>Sk Premium Park</td>\n",
       "      <td>Hotels</td>\n",
       "      <td>3.0</td>\n",
       "      <td>Hari Nagar Delhi - 110064</td>\n",
       "      <td>50-250 Pax.</td>\n",
       "      <td>900.00</td>\n",
       "    </tr>\n",
       "    <tr>\n",
       "      <th>257</th>\n",
       "      <td>Shubh Nimantran</td>\n",
       "      <td>Banquet Halls</td>\n",
       "      <td>0.0</td>\n",
       "      <td>Kirti Nagar Industrial Area Delhi -  ...</td>\n",
       "      <td>100-1000 Pax.</td>\n",
       "      <td>1000.00</td>\n",
       "    </tr>\n",
       "    <tr>\n",
       "      <th>258</th>\n",
       "      <td>Silver Petal</td>\n",
       "      <td>Banquet Halls</td>\n",
       "      <td>0.0</td>\n",
       "      <td>Karkar Dooma Delhi - 110092</td>\n",
       "      <td>200-1000 Pax.</td>\n",
       "      <td>1100.00</td>\n",
       "    </tr>\n",
       "    <tr>\n",
       "      <th>259</th>\n",
       "      <td>World Art Dining</td>\n",
       "      <td>Banquet Halls</td>\n",
       "      <td>0.0</td>\n",
       "      <td>Punjabi Bagh Delhi - 110026</td>\n",
       "      <td>30-250 Pax.</td>\n",
       "      <td>1000.00</td>\n",
       "    </tr>\n",
       "  </tbody>\n",
       "</table>\n",
       "<p>260 rows × 6 columns</p>\n",
       "</div>"
      ],
      "text/plain": [
       "                          Name           Type Rating  \\\n",
       "0          Priyanka Party Hall  Banquet Halls    4.9   \n",
       "1    The Panchshila Rendez ...  Banquet Halls    4.6   \n",
       "2                  Le Diamonds  Banquet Halls    4.6   \n",
       "3             Landmarx banquet  Banquet Halls    4.0   \n",
       "4             Cafe After Hours     Restaurant    4.5   \n",
       "..                         ...            ...    ...   \n",
       "255        SK Westend Banquets  Banquet Halls    0.0   \n",
       "256            Sk Premium Park         Hotels    3.0   \n",
       "257            Shubh Nimantran  Banquet Halls    0.0   \n",
       "258               Silver Petal  Banquet Halls    0.0   \n",
       "259           World Art Dining  Banquet Halls    0.0   \n",
       "\n",
       "                                     Location       Capacity  \\\n",
       "0                       Dwarka Delhi - 110075    50-550 Pax.   \n",
       "1                Malviya Nagar Delhi - 110017    30-250 Pax.   \n",
       "2                 Yamuna Vihar Delhi - 110053  100-1500 Pax.   \n",
       "3                   Peeragarhi Delhi - 110041    30-700 Pax.   \n",
       "4                Paschim Vihar Delhi - 110063    10-300 Pax.   \n",
       "..                                        ...            ...   \n",
       "255                  Janakpuri Delhi - 110058  100-1000 Pax.   \n",
       "256                 Hari Nagar Delhi - 110064    50-250 Pax.   \n",
       "257  Kirti Nagar Industrial Area Delhi -  ...  100-1000 Pax.   \n",
       "258               Karkar Dooma Delhi - 110092  200-1000 Pax.   \n",
       "259               Punjabi Bagh Delhi - 110026    30-250 Pax.   \n",
       "\n",
       "    Charges_per_person  \n",
       "0              1100.00  \n",
       "1              1400.00  \n",
       "2              1100.00  \n",
       "3               700.00  \n",
       "4               700.00  \n",
       "..                 ...  \n",
       "255            1200.00  \n",
       "256             900.00  \n",
       "257            1000.00  \n",
       "258            1100.00  \n",
       "259            1000.00  \n",
       "\n",
       "[260 rows x 6 columns]"
      ]
     },
     "execution_count": 60,
     "metadata": {},
     "output_type": "execute_result"
    }
   ],
   "source": [
    "df"
   ]
  },
  {
   "cell_type": "code",
   "execution_count": 62,
   "metadata": {},
   "outputs": [],
   "source": [
    "df.to_csv(\"Hotels.csv\")"
   ]
  },
  {
   "cell_type": "code",
   "execution_count": null,
   "metadata": {},
   "outputs": [],
   "source": []
  }
 ],
 "metadata": {
  "kernelspec": {
   "display_name": "Python 3",
   "language": "python",
   "name": "python3"
  },
  "language_info": {
   "codemirror_mode": {
    "name": "ipython",
    "version": 3
   },
   "file_extension": ".py",
   "mimetype": "text/x-python",
   "name": "python",
   "nbconvert_exporter": "python",
   "pygments_lexer": "ipython3",
   "version": "3.8.5"
  }
 },
 "nbformat": 4,
 "nbformat_minor": 4
}
