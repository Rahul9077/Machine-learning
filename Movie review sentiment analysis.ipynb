{
 "cells": [
  {
   "cell_type": "code",
   "execution_count": 1,
   "metadata": {},
   "outputs": [],
   "source": [
    "from vaderSentiment.vaderSentiment import SentimentIntensityAnalyzer  \n",
    "import pandas as pd\n",
    "import nltk\n",
    "from textblob import TextBlob\n",
    "import spacy\n",
    "import matplotlib.pyplot as plt\n",
    "import operator\n",
    "import seaborn as sns\n",
    "import warnings\n",
    "import re\n",
    "from wordcloud import WordCloud, STOPWORDS\n",
    "%matplotlib inline\n",
    "warnings.filterwarnings('ignore')"
   ]
  },
  {
   "cell_type": "code",
   "execution_count": 2,
   "metadata": {},
   "outputs": [],
   "source": [
    "df = pd.read_csv(\"critics_review.csv\")"
   ]
  },
  {
   "cell_type": "code",
   "execution_count": 3,
   "metadata": {},
   "outputs": [
    {
     "data": {
      "text/html": [
       "<div>\n",
       "<style scoped>\n",
       "    .dataframe tbody tr th:only-of-type {\n",
       "        vertical-align: middle;\n",
       "    }\n",
       "\n",
       "    .dataframe tbody tr th {\n",
       "        vertical-align: top;\n",
       "    }\n",
       "\n",
       "    .dataframe thead th {\n",
       "        text-align: right;\n",
       "    }\n",
       "</style>\n",
       "<table border=\"1\" class=\"dataframe\">\n",
       "  <thead>\n",
       "    <tr style=\"text-align: right;\">\n",
       "      <th></th>\n",
       "      <th>movie_name</th>\n",
       "      <th>name</th>\n",
       "      <th>review</th>\n",
       "      <th>rating</th>\n",
       "      <th>date</th>\n",
       "    </tr>\n",
       "  </thead>\n",
       "  <tbody>\n",
       "    <tr>\n",
       "      <th>0</th>\n",
       "      <td>zack_snyders_justice_league</td>\n",
       "      <td>Matt Lynch</td>\n",
       "      <td>Ultimately, that this even exists is almost re...</td>\n",
       "      <td>na</td>\n",
       "      <td>June 6, 2021</td>\n",
       "    </tr>\n",
       "    <tr>\n",
       "      <th>1</th>\n",
       "      <td>zack_snyders_justice_league</td>\n",
       "      <td>Andrew Dex</td>\n",
       "      <td>The current DC Extended Universe can be a bit ...</td>\n",
       "      <td>3/5</td>\n",
       "      <td>May 20, 2021</td>\n",
       "    </tr>\n",
       "    <tr>\n",
       "      <th>2</th>\n",
       "      <td>zack_snyders_justice_league</td>\n",
       "      <td>Sarah Marrs</td>\n",
       "      <td>While Zack Snyder's Justice League is unquesti...</td>\n",
       "      <td>na</td>\n",
       "      <td>May 12, 2021</td>\n",
       "    </tr>\n",
       "    <tr>\n",
       "      <th>3</th>\n",
       "      <td>zack_snyders_justice_league</td>\n",
       "      <td>Leigh Paatsch</td>\n",
       "      <td>A rip-roaring superhero action picture in its ...</td>\n",
       "      <td>3.5/5</td>\n",
       "      <td>May 12, 2021</td>\n",
       "    </tr>\n",
       "    <tr>\n",
       "      <th>4</th>\n",
       "      <td>zack_snyders_justice_league</td>\n",
       "      <td>Matt Hudson</td>\n",
       "      <td>An upgrade to be sure and one that will deligh...</td>\n",
       "      <td>7.5/10</td>\n",
       "      <td>April 29, 2021</td>\n",
       "    </tr>\n",
       "  </tbody>\n",
       "</table>\n",
       "</div>"
      ],
      "text/plain": [
       "                    movie_name           name  \\\n",
       "0  zack_snyders_justice_league     Matt Lynch   \n",
       "1  zack_snyders_justice_league     Andrew Dex   \n",
       "2  zack_snyders_justice_league    Sarah Marrs   \n",
       "3  zack_snyders_justice_league  Leigh Paatsch   \n",
       "4  zack_snyders_justice_league    Matt Hudson   \n",
       "\n",
       "                                              review  rating            date  \n",
       "0  Ultimately, that this even exists is almost re...      na    June 6, 2021  \n",
       "1  The current DC Extended Universe can be a bit ...     3/5    May 20, 2021  \n",
       "2  While Zack Snyder's Justice League is unquesti...      na    May 12, 2021  \n",
       "3  A rip-roaring superhero action picture in its ...   3.5/5    May 12, 2021  \n",
       "4  An upgrade to be sure and one that will deligh...  7.5/10  April 29, 2021  "
      ]
     },
     "execution_count": 3,
     "metadata": {},
     "output_type": "execute_result"
    }
   ],
   "source": [
    "df.head(5)"
   ]
  },
  {
   "cell_type": "code",
   "execution_count": 4,
   "metadata": {},
   "outputs": [],
   "source": [
    "na = df[df[\"rating\"]==\"na\"]"
   ]
  },
  {
   "cell_type": "code",
   "execution_count": 5,
   "metadata": {},
   "outputs": [],
   "source": [
    "rev = df[\"review\"]"
   ]
  },
  {
   "cell_type": "code",
   "execution_count": 6,
   "metadata": {},
   "outputs": [
    {
     "data": {
      "text/plain": [
       "\"The current DC Extended Universe can be a bit messy at times, but this is proof that when it's backed by the right minds, then it can be a hell of a show.\""
      ]
     },
     "execution_count": 6,
     "metadata": {},
     "output_type": "execute_result"
    }
   ],
   "source": [
    "t = rev[1]\n",
    "t"
   ]
  },
  {
   "cell_type": "code",
   "execution_count": 7,
   "metadata": {},
   "outputs": [],
   "source": [
    "sp = spacy.load('en_core_web_sm')\n",
    "all_stopwords = sp.Defaults.stop_words\n",
    "all_stopwords.remove('not')\n",
    "def remove_mystopwords(sentence):\n",
    "    tokens = sentence.split(\" \")\n",
    "    tokens_filtered= [word for word in tokens if not word in all_stopwords]\n",
    "    return (\" \").join(tokens_filtered)"
   ]
  },
  {
   "cell_type": "code",
   "execution_count": 8,
   "metadata": {},
   "outputs": [],
   "source": [
    "cleantext = re.sub(\"[ ,.:]\", \" \", t)\n",
    "cleantext = re.sub(\"[0-9]\", \" \", cleantext)\n",
    "cleantext = re.sub(\"[[]\", \" \", cleantext)\n",
    "cleantext = re.sub(\"[]]\", \" \", cleantext)\n",
    "cleantext = re.sub(\"['']\", \" \", cleantext)\n",
    "cleantext = re.sub(\"[)(]\", \" \", cleantext)\n",
    "cleantext = re.sub(\"@\\\\w+\", \" \", cleantext)\n",
    "cleantext = re.sub(\"#\\\\w+\", \" \", cleantext)\n",
    "cleantext = re.sub(\"[,' %]\", \" \", cleantext)\n",
    "cleantext = re.sub(\"[//]\", \" \", cleantext)\n",
    "cleantext = re.sub(\"[&]\", \" \", cleantext)\n",
    "cleantext = re.sub(\"[;]\", \" \", cleantext)\n",
    "cleantext = re.sub(\"[$]\", \" \", cleantext)"
   ]
  },
  {
   "cell_type": "code",
   "execution_count": 9,
   "metadata": {},
   "outputs": [],
   "source": [
    "data = cleantext.lower()"
   ]
  },
  {
   "cell_type": "code",
   "execution_count": 10,
   "metadata": {},
   "outputs": [],
   "source": [
    "clean_r = pd.DataFrame(columns=[\"clean_text\"])\n",
    "df = pd.concat([df,clean_r],axis=1)"
   ]
  },
  {
   "cell_type": "code",
   "execution_count": 11,
   "metadata": {},
   "outputs": [
    {
     "data": {
      "text/html": [
       "<div>\n",
       "<style scoped>\n",
       "    .dataframe tbody tr th:only-of-type {\n",
       "        vertical-align: middle;\n",
       "    }\n",
       "\n",
       "    .dataframe tbody tr th {\n",
       "        vertical-align: top;\n",
       "    }\n",
       "\n",
       "    .dataframe thead th {\n",
       "        text-align: right;\n",
       "    }\n",
       "</style>\n",
       "<table border=\"1\" class=\"dataframe\">\n",
       "  <thead>\n",
       "    <tr style=\"text-align: right;\">\n",
       "      <th></th>\n",
       "      <th>movie_name</th>\n",
       "      <th>name</th>\n",
       "      <th>review</th>\n",
       "      <th>rating</th>\n",
       "      <th>date</th>\n",
       "      <th>clean_text</th>\n",
       "    </tr>\n",
       "  </thead>\n",
       "  <tbody>\n",
       "    <tr>\n",
       "      <th>0</th>\n",
       "      <td>zack_snyders_justice_league</td>\n",
       "      <td>Matt Lynch</td>\n",
       "      <td>Ultimately, that this even exists is almost re...</td>\n",
       "      <td>na</td>\n",
       "      <td>June 6, 2021</td>\n",
       "      <td>NaN</td>\n",
       "    </tr>\n",
       "    <tr>\n",
       "      <th>1</th>\n",
       "      <td>zack_snyders_justice_league</td>\n",
       "      <td>Andrew Dex</td>\n",
       "      <td>The current DC Extended Universe can be a bit ...</td>\n",
       "      <td>3/5</td>\n",
       "      <td>May 20, 2021</td>\n",
       "      <td>NaN</td>\n",
       "    </tr>\n",
       "    <tr>\n",
       "      <th>2</th>\n",
       "      <td>zack_snyders_justice_league</td>\n",
       "      <td>Sarah Marrs</td>\n",
       "      <td>While Zack Snyder's Justice League is unquesti...</td>\n",
       "      <td>na</td>\n",
       "      <td>May 12, 2021</td>\n",
       "      <td>NaN</td>\n",
       "    </tr>\n",
       "    <tr>\n",
       "      <th>3</th>\n",
       "      <td>zack_snyders_justice_league</td>\n",
       "      <td>Leigh Paatsch</td>\n",
       "      <td>A rip-roaring superhero action picture in its ...</td>\n",
       "      <td>3.5/5</td>\n",
       "      <td>May 12, 2021</td>\n",
       "      <td>NaN</td>\n",
       "    </tr>\n",
       "    <tr>\n",
       "      <th>4</th>\n",
       "      <td>zack_snyders_justice_league</td>\n",
       "      <td>Matt Hudson</td>\n",
       "      <td>An upgrade to be sure and one that will deligh...</td>\n",
       "      <td>7.5/10</td>\n",
       "      <td>April 29, 2021</td>\n",
       "      <td>NaN</td>\n",
       "    </tr>\n",
       "  </tbody>\n",
       "</table>\n",
       "</div>"
      ],
      "text/plain": [
       "                    movie_name           name  \\\n",
       "0  zack_snyders_justice_league     Matt Lynch   \n",
       "1  zack_snyders_justice_league     Andrew Dex   \n",
       "2  zack_snyders_justice_league    Sarah Marrs   \n",
       "3  zack_snyders_justice_league  Leigh Paatsch   \n",
       "4  zack_snyders_justice_league    Matt Hudson   \n",
       "\n",
       "                                              review  rating            date  \\\n",
       "0  Ultimately, that this even exists is almost re...      na    June 6, 2021   \n",
       "1  The current DC Extended Universe can be a bit ...     3/5    May 20, 2021   \n",
       "2  While Zack Snyder's Justice League is unquesti...      na    May 12, 2021   \n",
       "3  A rip-roaring superhero action picture in its ...   3.5/5    May 12, 2021   \n",
       "4  An upgrade to be sure and one that will deligh...  7.5/10  April 29, 2021   \n",
       "\n",
       "  clean_text  \n",
       "0        NaN  \n",
       "1        NaN  \n",
       "2        NaN  \n",
       "3        NaN  \n",
       "4        NaN  "
      ]
     },
     "execution_count": 11,
     "metadata": {},
     "output_type": "execute_result"
    }
   ],
   "source": [
    "df.head()"
   ]
  },
  {
   "cell_type": "code",
   "execution_count": 12,
   "metadata": {},
   "outputs": [],
   "source": [
    "j = 0\n",
    "for i in df[\"review\"]:\n",
    "    cleantext = re.sub(\"[ ,.:]\", \" \", i)\n",
    "    cleantext = re.sub(\"[0-9]\", \" \", cleantext)\n",
    "    cleantext = re.sub(\"[[]\", \" \", cleantext)\n",
    "    cleantext = re.sub(\"[]]\", \" \", cleantext)\n",
    "    cleantext = re.sub(\"['']\", \" \", cleantext)\n",
    "    cleantext = re.sub(\"[)(]\", \" \", cleantext)\n",
    "    cleantext = re.sub(\"@\\\\w+\", \" \", cleantext)\n",
    "    cleantext = re.sub(\"#\\\\w+\", \" \", cleantext)\n",
    "    cleantext = re.sub(\"[,' %]\", \" \", cleantext)\n",
    "    cleantext = re.sub(\"[//]\", \" \", cleantext)\n",
    "    cleantext = re.sub(\"[&]\", \" \", cleantext)\n",
    "    cleantext = re.sub(\"[;]\", \" \", cleantext)\n",
    "    cleantext = re.sub(\"[$]\", \" \", cleantext)\n",
    "    final = cleantext.lower()\n",
    "    filtered_text = remove_mystopwords(final)\n",
    "    df[\"clean_text\"][j] = filtered_text\n",
    "    j+=1"
   ]
  },
  {
   "cell_type": "code",
   "execution_count": 13,
   "metadata": {},
   "outputs": [
    {
     "data": {
      "text/html": [
       "<div>\n",
       "<style scoped>\n",
       "    .dataframe tbody tr th:only-of-type {\n",
       "        vertical-align: middle;\n",
       "    }\n",
       "\n",
       "    .dataframe tbody tr th {\n",
       "        vertical-align: top;\n",
       "    }\n",
       "\n",
       "    .dataframe thead th {\n",
       "        text-align: right;\n",
       "    }\n",
       "</style>\n",
       "<table border=\"1\" class=\"dataframe\">\n",
       "  <thead>\n",
       "    <tr style=\"text-align: right;\">\n",
       "      <th></th>\n",
       "      <th>movie_name</th>\n",
       "      <th>name</th>\n",
       "      <th>review</th>\n",
       "      <th>rating</th>\n",
       "      <th>date</th>\n",
       "      <th>clean_text</th>\n",
       "    </tr>\n",
       "  </thead>\n",
       "  <tbody>\n",
       "    <tr>\n",
       "      <th>0</th>\n",
       "      <td>zack_snyders_justice_league</td>\n",
       "      <td>Matt Lynch</td>\n",
       "      <td>Ultimately, that this even exists is almost re...</td>\n",
       "      <td>na</td>\n",
       "      <td>June 6, 2021</td>\n",
       "      <td>ultimately  exists reason whirl</td>\n",
       "    </tr>\n",
       "    <tr>\n",
       "      <th>1</th>\n",
       "      <td>zack_snyders_justice_league</td>\n",
       "      <td>Andrew Dex</td>\n",
       "      <td>The current DC Extended Universe can be a bit ...</td>\n",
       "      <td>3/5</td>\n",
       "      <td>May 20, 2021</td>\n",
       "      <td>current dc extended universe bit messy times  ...</td>\n",
       "    </tr>\n",
       "    <tr>\n",
       "      <th>2</th>\n",
       "      <td>zack_snyders_justice_league</td>\n",
       "      <td>Sarah Marrs</td>\n",
       "      <td>While Zack Snyder's Justice League is unquesti...</td>\n",
       "      <td>na</td>\n",
       "      <td>May 12, 2021</td>\n",
       "      <td>zack snyder s justice league unquestionably be...</td>\n",
       "    </tr>\n",
       "    <tr>\n",
       "      <th>3</th>\n",
       "      <td>zack_snyders_justice_league</td>\n",
       "      <td>Leigh Paatsch</td>\n",
       "      <td>A rip-roaring superhero action picture in its ...</td>\n",
       "      <td>3.5/5</td>\n",
       "      <td>May 12, 2021</td>\n",
       "      <td>rip-roaring superhero action picture right  ju...</td>\n",
       "    </tr>\n",
       "    <tr>\n",
       "      <th>4</th>\n",
       "      <td>zack_snyders_justice_league</td>\n",
       "      <td>Matt Hudson</td>\n",
       "      <td>An upgrade to be sure and one that will deligh...</td>\n",
       "      <td>7.5/10</td>\n",
       "      <td>April 29, 2021</td>\n",
       "      <td>upgrade sure delight snyder fans  dc fans  com...</td>\n",
       "    </tr>\n",
       "  </tbody>\n",
       "</table>\n",
       "</div>"
      ],
      "text/plain": [
       "                    movie_name           name  \\\n",
       "0  zack_snyders_justice_league     Matt Lynch   \n",
       "1  zack_snyders_justice_league     Andrew Dex   \n",
       "2  zack_snyders_justice_league    Sarah Marrs   \n",
       "3  zack_snyders_justice_league  Leigh Paatsch   \n",
       "4  zack_snyders_justice_league    Matt Hudson   \n",
       "\n",
       "                                              review  rating            date  \\\n",
       "0  Ultimately, that this even exists is almost re...      na    June 6, 2021   \n",
       "1  The current DC Extended Universe can be a bit ...     3/5    May 20, 2021   \n",
       "2  While Zack Snyder's Justice League is unquesti...      na    May 12, 2021   \n",
       "3  A rip-roaring superhero action picture in its ...   3.5/5    May 12, 2021   \n",
       "4  An upgrade to be sure and one that will deligh...  7.5/10  April 29, 2021   \n",
       "\n",
       "                                          clean_text  \n",
       "0                   ultimately  exists reason whirl   \n",
       "1  current dc extended universe bit messy times  ...  \n",
       "2  zack snyder s justice league unquestionably be...  \n",
       "3  rip-roaring superhero action picture right  ju...  \n",
       "4  upgrade sure delight snyder fans  dc fans  com...  "
      ]
     },
     "execution_count": 13,
     "metadata": {},
     "output_type": "execute_result"
    }
   ],
   "source": [
    "df.head()"
   ]
  },
  {
   "cell_type": "code",
   "execution_count": 14,
   "metadata": {},
   "outputs": [],
   "source": [
    "jo = df[\"clean_text\"][21]"
   ]
  },
  {
   "cell_type": "code",
   "execution_count": 15,
   "metadata": {},
   "outputs": [
    {
     "data": {
      "text/plain": [
       "'pointless best describes movie '"
      ]
     },
     "execution_count": 15,
     "metadata": {},
     "output_type": "execute_result"
    }
   ],
   "source": [
    "jo"
   ]
  },
  {
   "cell_type": "code",
   "execution_count": 16,
   "metadata": {},
   "outputs": [
    {
     "data": {
      "text/plain": [
       "['pointless best describes movie ']"
      ]
     },
     "execution_count": 16,
     "metadata": {},
     "output_type": "execute_result"
    }
   ],
   "source": [
    "jo.splitlines()"
   ]
  },
  {
   "cell_type": "code",
   "execution_count": 17,
   "metadata": {},
   "outputs": [
    {
     "data": {
      "text/plain": [
       "{'neg': 0.0, 'neu': 0.417, 'pos': 0.583, 'compound': 0.6369}"
      ]
     },
     "execution_count": 17,
     "metadata": {},
     "output_type": "execute_result"
    }
   ],
   "source": [
    "sid_obj = SentimentIntensityAnalyzer()\n",
    "bon = sid_obj.polarity_scores(jo)\n",
    "bon"
   ]
  },
  {
   "cell_type": "code",
   "execution_count": 18,
   "metadata": {},
   "outputs": [
    {
     "data": {
      "text/plain": [
       "0.417"
      ]
     },
     "execution_count": 18,
     "metadata": {},
     "output_type": "execute_result"
    }
   ],
   "source": [
    "bon[\"neu\"]"
   ]
  },
  {
   "cell_type": "code",
   "execution_count": 19,
   "metadata": {},
   "outputs": [
    {
     "name": "stdout",
     "output_type": "stream",
     "text": [
      "yoooo\n"
     ]
    }
   ],
   "source": [
    "if bon[\"neg\"]>bon[\"pos\"]>bon[\"neu\"]:\n",
    "    print(\"yes\")\n",
    "elif bon[\"neg\"]<bon[\"pos\"]<bon[\"neu\"]:\n",
    "    print(\"yup\")\n",
    "elif bon[\"neg\"]<bon[\"pos\"]>bon[\"neu\"]:\n",
    "    print(\"yoooo\")"
   ]
  },
  {
   "cell_type": "code",
   "execution_count": 20,
   "metadata": {},
   "outputs": [],
   "source": [
    "senti = pd.DataFrame(columns=[\"sentiment\"])\n",
    "df = pd.concat([df,senti],axis=1)"
   ]
  },
  {
   "cell_type": "code",
   "execution_count": 21,
   "metadata": {},
   "outputs": [
    {
     "data": {
      "text/html": [
       "<div>\n",
       "<style scoped>\n",
       "    .dataframe tbody tr th:only-of-type {\n",
       "        vertical-align: middle;\n",
       "    }\n",
       "\n",
       "    .dataframe tbody tr th {\n",
       "        vertical-align: top;\n",
       "    }\n",
       "\n",
       "    .dataframe thead th {\n",
       "        text-align: right;\n",
       "    }\n",
       "</style>\n",
       "<table border=\"1\" class=\"dataframe\">\n",
       "  <thead>\n",
       "    <tr style=\"text-align: right;\">\n",
       "      <th></th>\n",
       "      <th>movie_name</th>\n",
       "      <th>name</th>\n",
       "      <th>review</th>\n",
       "      <th>rating</th>\n",
       "      <th>date</th>\n",
       "      <th>clean_text</th>\n",
       "      <th>sentiment</th>\n",
       "    </tr>\n",
       "  </thead>\n",
       "  <tbody>\n",
       "    <tr>\n",
       "      <th>0</th>\n",
       "      <td>zack_snyders_justice_league</td>\n",
       "      <td>Matt Lynch</td>\n",
       "      <td>Ultimately, that this even exists is almost re...</td>\n",
       "      <td>na</td>\n",
       "      <td>June 6, 2021</td>\n",
       "      <td>ultimately  exists reason whirl</td>\n",
       "      <td>NaN</td>\n",
       "    </tr>\n",
       "    <tr>\n",
       "      <th>1</th>\n",
       "      <td>zack_snyders_justice_league</td>\n",
       "      <td>Andrew Dex</td>\n",
       "      <td>The current DC Extended Universe can be a bit ...</td>\n",
       "      <td>3/5</td>\n",
       "      <td>May 20, 2021</td>\n",
       "      <td>current dc extended universe bit messy times  ...</td>\n",
       "      <td>NaN</td>\n",
       "    </tr>\n",
       "  </tbody>\n",
       "</table>\n",
       "</div>"
      ],
      "text/plain": [
       "                    movie_name        name  \\\n",
       "0  zack_snyders_justice_league  Matt Lynch   \n",
       "1  zack_snyders_justice_league  Andrew Dex   \n",
       "\n",
       "                                              review rating          date  \\\n",
       "0  Ultimately, that this even exists is almost re...     na  June 6, 2021   \n",
       "1  The current DC Extended Universe can be a bit ...    3/5  May 20, 2021   \n",
       "\n",
       "                                          clean_text sentiment  \n",
       "0                   ultimately  exists reason whirl        NaN  \n",
       "1  current dc extended universe bit messy times  ...       NaN  "
      ]
     },
     "execution_count": 21,
     "metadata": {},
     "output_type": "execute_result"
    }
   ],
   "source": [
    "df.head(2)"
   ]
  },
  {
   "cell_type": "code",
   "execution_count": 22,
   "metadata": {},
   "outputs": [],
   "source": [
    "j = 0\n",
    "for rev in df[\"clean_text\"]:\n",
    "    pol = sid_obj.polarity_scores(rev)\n",
    "    if pol[\"neg\"]>0.2:\n",
    "        df[\"sentiment\"][j] = \"negative\"\n",
    "    elif pol[\"compound\"] == 0:\n",
    "        df[\"sentiment\"][j] = \"neutral\"\n",
    "    else:\n",
    "        df[\"sentiment\"][j] = \"positive\"\n",
    "    j+=1"
   ]
  },
  {
   "cell_type": "code",
   "execution_count": 23,
   "metadata": {},
   "outputs": [
    {
     "data": {
      "text/html": [
       "<div>\n",
       "<style scoped>\n",
       "    .dataframe tbody tr th:only-of-type {\n",
       "        vertical-align: middle;\n",
       "    }\n",
       "\n",
       "    .dataframe tbody tr th {\n",
       "        vertical-align: top;\n",
       "    }\n",
       "\n",
       "    .dataframe thead th {\n",
       "        text-align: right;\n",
       "    }\n",
       "</style>\n",
       "<table border=\"1\" class=\"dataframe\">\n",
       "  <thead>\n",
       "    <tr style=\"text-align: right;\">\n",
       "      <th></th>\n",
       "      <th>movie_name</th>\n",
       "      <th>name</th>\n",
       "      <th>review</th>\n",
       "      <th>rating</th>\n",
       "      <th>date</th>\n",
       "      <th>clean_text</th>\n",
       "      <th>sentiment</th>\n",
       "    </tr>\n",
       "  </thead>\n",
       "  <tbody>\n",
       "    <tr>\n",
       "      <th>0</th>\n",
       "      <td>zack_snyders_justice_league</td>\n",
       "      <td>Matt Lynch</td>\n",
       "      <td>Ultimately, that this even exists is almost re...</td>\n",
       "      <td>na</td>\n",
       "      <td>June 6, 2021</td>\n",
       "      <td>ultimately  exists reason whirl</td>\n",
       "      <td>neutral</td>\n",
       "    </tr>\n",
       "    <tr>\n",
       "      <th>1</th>\n",
       "      <td>zack_snyders_justice_league</td>\n",
       "      <td>Andrew Dex</td>\n",
       "      <td>The current DC Extended Universe can be a bit ...</td>\n",
       "      <td>3/5</td>\n",
       "      <td>May 20, 2021</td>\n",
       "      <td>current dc extended universe bit messy times  ...</td>\n",
       "      <td>negative</td>\n",
       "    </tr>\n",
       "    <tr>\n",
       "      <th>2</th>\n",
       "      <td>zack_snyders_justice_league</td>\n",
       "      <td>Sarah Marrs</td>\n",
       "      <td>While Zack Snyder's Justice League is unquesti...</td>\n",
       "      <td>na</td>\n",
       "      <td>May 12, 2021</td>\n",
       "      <td>zack snyder s justice league unquestionably be...</td>\n",
       "      <td>positive</td>\n",
       "    </tr>\n",
       "    <tr>\n",
       "      <th>3</th>\n",
       "      <td>zack_snyders_justice_league</td>\n",
       "      <td>Leigh Paatsch</td>\n",
       "      <td>A rip-roaring superhero action picture in its ...</td>\n",
       "      <td>3.5/5</td>\n",
       "      <td>May 12, 2021</td>\n",
       "      <td>rip-roaring superhero action picture right  ju...</td>\n",
       "      <td>neutral</td>\n",
       "    </tr>\n",
       "    <tr>\n",
       "      <th>4</th>\n",
       "      <td>zack_snyders_justice_league</td>\n",
       "      <td>Matt Hudson</td>\n",
       "      <td>An upgrade to be sure and one that will deligh...</td>\n",
       "      <td>7.5/10</td>\n",
       "      <td>April 29, 2021</td>\n",
       "      <td>upgrade sure delight snyder fans  dc fans  com...</td>\n",
       "      <td>positive</td>\n",
       "    </tr>\n",
       "  </tbody>\n",
       "</table>\n",
       "</div>"
      ],
      "text/plain": [
       "                    movie_name           name  \\\n",
       "0  zack_snyders_justice_league     Matt Lynch   \n",
       "1  zack_snyders_justice_league     Andrew Dex   \n",
       "2  zack_snyders_justice_league    Sarah Marrs   \n",
       "3  zack_snyders_justice_league  Leigh Paatsch   \n",
       "4  zack_snyders_justice_league    Matt Hudson   \n",
       "\n",
       "                                              review  rating            date  \\\n",
       "0  Ultimately, that this even exists is almost re...      na    June 6, 2021   \n",
       "1  The current DC Extended Universe can be a bit ...     3/5    May 20, 2021   \n",
       "2  While Zack Snyder's Justice League is unquesti...      na    May 12, 2021   \n",
       "3  A rip-roaring superhero action picture in its ...   3.5/5    May 12, 2021   \n",
       "4  An upgrade to be sure and one that will deligh...  7.5/10  April 29, 2021   \n",
       "\n",
       "                                          clean_text sentiment  \n",
       "0                   ultimately  exists reason whirl    neutral  \n",
       "1  current dc extended universe bit messy times  ...  negative  \n",
       "2  zack snyder s justice league unquestionably be...  positive  \n",
       "3  rip-roaring superhero action picture right  ju...   neutral  \n",
       "4  upgrade sure delight snyder fans  dc fans  com...  positive  "
      ]
     },
     "execution_count": 23,
     "metadata": {},
     "output_type": "execute_result"
    }
   ],
   "source": [
    "df.head()"
   ]
  },
  {
   "cell_type": "code",
   "execution_count": 24,
   "metadata": {},
   "outputs": [
    {
     "data": {
      "text/plain": [
       "positive    1085\n",
       "negative     306\n",
       "neutral      141\n",
       "Name: sentiment, dtype: int64"
      ]
     },
     "execution_count": 24,
     "metadata": {},
     "output_type": "execute_result"
    }
   ],
   "source": [
    "df[\"sentiment\"].value_counts()"
   ]
  },
  {
   "cell_type": "code",
   "execution_count": 25,
   "metadata": {},
   "outputs": [],
   "source": [
    "new= df[df[\"sentiment\"]==\"negative\"]"
   ]
  },
  {
   "cell_type": "code",
   "execution_count": 26,
   "metadata": {},
   "outputs": [
    {
     "data": {
      "text/html": [
       "<div>\n",
       "<style scoped>\n",
       "    .dataframe tbody tr th:only-of-type {\n",
       "        vertical-align: middle;\n",
       "    }\n",
       "\n",
       "    .dataframe tbody tr th {\n",
       "        vertical-align: top;\n",
       "    }\n",
       "\n",
       "    .dataframe thead th {\n",
       "        text-align: right;\n",
       "    }\n",
       "</style>\n",
       "<table border=\"1\" class=\"dataframe\">\n",
       "  <thead>\n",
       "    <tr style=\"text-align: right;\">\n",
       "      <th></th>\n",
       "      <th>movie_name</th>\n",
       "      <th>name</th>\n",
       "      <th>review</th>\n",
       "      <th>rating</th>\n",
       "      <th>date</th>\n",
       "      <th>clean_text</th>\n",
       "      <th>sentiment</th>\n",
       "    </tr>\n",
       "  </thead>\n",
       "  <tbody>\n",
       "    <tr>\n",
       "      <th>1</th>\n",
       "      <td>zack_snyders_justice_league</td>\n",
       "      <td>Andrew Dex</td>\n",
       "      <td>The current DC Extended Universe can be a bit ...</td>\n",
       "      <td>3/5</td>\n",
       "      <td>May 20, 2021</td>\n",
       "      <td>current dc extended universe bit messy times  ...</td>\n",
       "      <td>negative</td>\n",
       "    </tr>\n",
       "    <tr>\n",
       "      <th>7</th>\n",
       "      <td>zack_snyders_justice_league</td>\n",
       "      <td>Jeffrey M. Anderson</td>\n",
       "      <td>Ultimately, there was nothing for me in this l...</td>\n",
       "      <td>2.5/4</td>\n",
       "      <td>April 10, 2021</td>\n",
       "      <td>ultimately  longer cut didn t shorter cut</td>\n",
       "      <td>negative</td>\n",
       "    </tr>\n",
       "    <tr>\n",
       "      <th>8</th>\n",
       "      <td>zack_snyders_justice_league</td>\n",
       "      <td>Alejandro Turdo</td>\n",
       "      <td>The Snyder Cut turns a terrible movie into a d...</td>\n",
       "      <td>8/10</td>\n",
       "      <td>April 8, 2021</td>\n",
       "      <td>snyder cut turns terrible movie decent  simply...</td>\n",
       "      <td>negative</td>\n",
       "    </tr>\n",
       "    <tr>\n",
       "      <th>14</th>\n",
       "      <td>zack_snyders_justice_league</td>\n",
       "      <td>Julio Fernando Navas</td>\n",
       "      <td>Even more unbearable than the theatrical cut. ...</td>\n",
       "      <td>1.5/</td>\n",
       "      <td>April 2, 2021</td>\n",
       "      <td>unbearable theatrical cut   review spanish</td>\n",
       "      <td>negative</td>\n",
       "    </tr>\n",
       "    <tr>\n",
       "      <th>17</th>\n",
       "      <td>zack_snyders_justice_league</td>\n",
       "      <td>Robert Roten</td>\n",
       "      <td>Zack Snyder's new director's cut of his 2017 f...</td>\n",
       "      <td>B</td>\n",
       "      <td>April 1, 2021</td>\n",
       "      <td>zack snyder s new director s cut      film twi...</td>\n",
       "      <td>negative</td>\n",
       "    </tr>\n",
       "    <tr>\n",
       "      <th>...</th>\n",
       "      <td>...</td>\n",
       "      <td>...</td>\n",
       "      <td>...</td>\n",
       "      <td>...</td>\n",
       "      <td>...</td>\n",
       "      <td>...</td>\n",
       "      <td>...</td>\n",
       "    </tr>\n",
       "    <tr>\n",
       "      <th>1518</th>\n",
       "      <td>john_wick_chapter_3_parabellum</td>\n",
       "      <td>Chris Nashawaty</td>\n",
       "      <td>I don't mean to give the impression that John ...</td>\n",
       "      <td>A-</td>\n",
       "      <td>May 10, 2019</td>\n",
       "      <td>don t mean impression john wick   grander gorg...</td>\n",
       "      <td>negative</td>\n",
       "    </tr>\n",
       "    <tr>\n",
       "      <th>1520</th>\n",
       "      <td>john_wick_chapter_3_parabellum</td>\n",
       "      <td>Jim Vejvoda</td>\n",
       "      <td>The action is bloody and over-the-top and the ...</td>\n",
       "      <td>8.5/10</td>\n",
       "      <td>May 10, 2019</td>\n",
       "      <td>action bloody over-the-top emotional throughli...</td>\n",
       "      <td>negative</td>\n",
       "    </tr>\n",
       "    <tr>\n",
       "      <th>1522</th>\n",
       "      <td>john_wick_chapter_3_parabellum</td>\n",
       "      <td>Brian Truitt</td>\n",
       "      <td>It's almost a karmic answer to everything else...</td>\n",
       "      <td>3/4</td>\n",
       "      <td>May 10, 2019</td>\n",
       "      <td>s karmic answer action-movie genre  s usually ...</td>\n",
       "      <td>negative</td>\n",
       "    </tr>\n",
       "    <tr>\n",
       "      <th>1523</th>\n",
       "      <td>john_wick_chapter_3_parabellum</td>\n",
       "      <td>John DeFore</td>\n",
       "      <td>An epic of choreographed mayhem that expands t...</td>\n",
       "      <td>na</td>\n",
       "      <td>May 10, 2019</td>\n",
       "      <td>epic choreographed mayhem expands wickiverse p...</td>\n",
       "      <td>negative</td>\n",
       "    </tr>\n",
       "    <tr>\n",
       "      <th>1524</th>\n",
       "      <td>john_wick_chapter_3_parabellum</td>\n",
       "      <td>Brent Hankins</td>\n",
       "      <td>The marriage of brutal hand-to-hand combat and...</td>\n",
       "      <td>8/10</td>\n",
       "      <td>May 10, 2019</td>\n",
       "      <td>marriage brutal hand-to-hand combat impossibly...</td>\n",
       "      <td>negative</td>\n",
       "    </tr>\n",
       "  </tbody>\n",
       "</table>\n",
       "<p>306 rows × 7 columns</p>\n",
       "</div>"
      ],
      "text/plain": [
       "                          movie_name                  name  \\\n",
       "1        zack_snyders_justice_league            Andrew Dex   \n",
       "7        zack_snyders_justice_league   Jeffrey M. Anderson   \n",
       "8        zack_snyders_justice_league       Alejandro Turdo   \n",
       "14       zack_snyders_justice_league  Julio Fernando Navas   \n",
       "17       zack_snyders_justice_league          Robert Roten   \n",
       "...                              ...                   ...   \n",
       "1518  john_wick_chapter_3_parabellum       Chris Nashawaty   \n",
       "1520  john_wick_chapter_3_parabellum           Jim Vejvoda   \n",
       "1522  john_wick_chapter_3_parabellum          Brian Truitt   \n",
       "1523  john_wick_chapter_3_parabellum           John DeFore   \n",
       "1524  john_wick_chapter_3_parabellum         Brent Hankins   \n",
       "\n",
       "                                                 review  rating  \\\n",
       "1     The current DC Extended Universe can be a bit ...     3/5   \n",
       "7     Ultimately, there was nothing for me in this l...   2.5/4   \n",
       "8     The Snyder Cut turns a terrible movie into a d...    8/10   \n",
       "14    Even more unbearable than the theatrical cut. ...    1.5/   \n",
       "17    Zack Snyder's new director's cut of his 2017 f...       B   \n",
       "...                                                 ...     ...   \n",
       "1518  I don't mean to give the impression that John ...      A-   \n",
       "1520  The action is bloody and over-the-top and the ...  8.5/10   \n",
       "1522  It's almost a karmic answer to everything else...     3/4   \n",
       "1523  An epic of choreographed mayhem that expands t...      na   \n",
       "1524  The marriage of brutal hand-to-hand combat and...    8/10   \n",
       "\n",
       "                date                                         clean_text  \\\n",
       "1       May 20, 2021  current dc extended universe bit messy times  ...   \n",
       "7     April 10, 2021         ultimately  longer cut didn t shorter cut    \n",
       "8      April 8, 2021  snyder cut turns terrible movie decent  simply...   \n",
       "14     April 2, 2021       unbearable theatrical cut   review spanish     \n",
       "17     April 1, 2021  zack snyder s new director s cut      film twi...   \n",
       "...              ...                                                ...   \n",
       "1518    May 10, 2019  don t mean impression john wick   grander gorg...   \n",
       "1520    May 10, 2019  action bloody over-the-top emotional throughli...   \n",
       "1522    May 10, 2019  s karmic answer action-movie genre  s usually ...   \n",
       "1523    May 10, 2019  epic choreographed mayhem expands wickiverse p...   \n",
       "1524    May 10, 2019  marriage brutal hand-to-hand combat impossibly...   \n",
       "\n",
       "     sentiment  \n",
       "1     negative  \n",
       "7     negative  \n",
       "8     negative  \n",
       "14    negative  \n",
       "17    negative  \n",
       "...        ...  \n",
       "1518  negative  \n",
       "1520  negative  \n",
       "1522  negative  \n",
       "1523  negative  \n",
       "1524  negative  \n",
       "\n",
       "[306 rows x 7 columns]"
      ]
     },
     "execution_count": 26,
     "metadata": {},
     "output_type": "execute_result"
    }
   ],
   "source": [
    "new"
   ]
  },
  {
   "cell_type": "code",
   "execution_count": 27,
   "metadata": {},
   "outputs": [
    {
     "data": {
      "text/plain": [
       "'The marriage of brutal hand-to-hand combat and impossibly precise gunplay have been franchise staples, and John Wick: Chapter 3 takes these elements to incredible heights with some of the most flat-out insane action choreography ever seen.'"
      ]
     },
     "execution_count": 27,
     "metadata": {},
     "output_type": "execute_result"
    }
   ],
   "source": [
    "new[\"review\"][1524]"
   ]
  },
  {
   "cell_type": "code",
   "execution_count": 28,
   "metadata": {},
   "outputs": [
    {
     "data": {
      "text/html": [
       "<div>\n",
       "<style scoped>\n",
       "    .dataframe tbody tr th:only-of-type {\n",
       "        vertical-align: middle;\n",
       "    }\n",
       "\n",
       "    .dataframe tbody tr th {\n",
       "        vertical-align: top;\n",
       "    }\n",
       "\n",
       "    .dataframe thead th {\n",
       "        text-align: right;\n",
       "    }\n",
       "</style>\n",
       "<table border=\"1\" class=\"dataframe\">\n",
       "  <thead>\n",
       "    <tr style=\"text-align: right;\">\n",
       "      <th></th>\n",
       "      <th>movie_name</th>\n",
       "      <th>name</th>\n",
       "      <th>review</th>\n",
       "      <th>rating</th>\n",
       "      <th>date</th>\n",
       "      <th>clean_text</th>\n",
       "      <th>sentiment</th>\n",
       "    </tr>\n",
       "  </thead>\n",
       "  <tbody>\n",
       "    <tr>\n",
       "      <th>0</th>\n",
       "      <td>zack_snyders_justice_league</td>\n",
       "      <td>Matt Lynch</td>\n",
       "      <td>Ultimately, that this even exists is almost re...</td>\n",
       "      <td>na</td>\n",
       "      <td>June 6, 2021</td>\n",
       "      <td>ultimately  exists reason whirl</td>\n",
       "      <td>neutral</td>\n",
       "    </tr>\n",
       "    <tr>\n",
       "      <th>1</th>\n",
       "      <td>zack_snyders_justice_league</td>\n",
       "      <td>Andrew Dex</td>\n",
       "      <td>The current DC Extended Universe can be a bit ...</td>\n",
       "      <td>3/5</td>\n",
       "      <td>May 20, 2021</td>\n",
       "      <td>current dc extended universe bit messy times  ...</td>\n",
       "      <td>negative</td>\n",
       "    </tr>\n",
       "    <tr>\n",
       "      <th>2</th>\n",
       "      <td>zack_snyders_justice_league</td>\n",
       "      <td>Sarah Marrs</td>\n",
       "      <td>While Zack Snyder's Justice League is unquesti...</td>\n",
       "      <td>na</td>\n",
       "      <td>May 12, 2021</td>\n",
       "      <td>zack snyder s justice league unquestionably be...</td>\n",
       "      <td>positive</td>\n",
       "    </tr>\n",
       "  </tbody>\n",
       "</table>\n",
       "</div>"
      ],
      "text/plain": [
       "                    movie_name         name  \\\n",
       "0  zack_snyders_justice_league   Matt Lynch   \n",
       "1  zack_snyders_justice_league   Andrew Dex   \n",
       "2  zack_snyders_justice_league  Sarah Marrs   \n",
       "\n",
       "                                              review rating          date  \\\n",
       "0  Ultimately, that this even exists is almost re...     na  June 6, 2021   \n",
       "1  The current DC Extended Universe can be a bit ...    3/5  May 20, 2021   \n",
       "2  While Zack Snyder's Justice League is unquesti...     na  May 12, 2021   \n",
       "\n",
       "                                          clean_text sentiment  \n",
       "0                   ultimately  exists reason whirl    neutral  \n",
       "1  current dc extended universe bit messy times  ...  negative  \n",
       "2  zack snyder s justice league unquestionably be...  positive  "
      ]
     },
     "execution_count": 28,
     "metadata": {},
     "output_type": "execute_result"
    }
   ],
   "source": [
    "df.head(3)"
   ]
  },
  {
   "cell_type": "code",
   "execution_count": 29,
   "metadata": {},
   "outputs": [],
   "source": [
    "df1 = df.replace({\"na\":\"unrated\"})"
   ]
  },
  {
   "cell_type": "code",
   "execution_count": 30,
   "metadata": {},
   "outputs": [
    {
     "data": {
      "text/html": [
       "<div>\n",
       "<style scoped>\n",
       "    .dataframe tbody tr th:only-of-type {\n",
       "        vertical-align: middle;\n",
       "    }\n",
       "\n",
       "    .dataframe tbody tr th {\n",
       "        vertical-align: top;\n",
       "    }\n",
       "\n",
       "    .dataframe thead th {\n",
       "        text-align: right;\n",
       "    }\n",
       "</style>\n",
       "<table border=\"1\" class=\"dataframe\">\n",
       "  <thead>\n",
       "    <tr style=\"text-align: right;\">\n",
       "      <th></th>\n",
       "      <th>movie_name</th>\n",
       "      <th>name</th>\n",
       "      <th>review</th>\n",
       "      <th>rating</th>\n",
       "      <th>date</th>\n",
       "      <th>clean_text</th>\n",
       "      <th>sentiment</th>\n",
       "    </tr>\n",
       "  </thead>\n",
       "  <tbody>\n",
       "    <tr>\n",
       "      <th>0</th>\n",
       "      <td>zack_snyders_justice_league</td>\n",
       "      <td>Matt Lynch</td>\n",
       "      <td>Ultimately, that this even exists is almost re...</td>\n",
       "      <td>unrated</td>\n",
       "      <td>June 6, 2021</td>\n",
       "      <td>ultimately  exists reason whirl</td>\n",
       "      <td>neutral</td>\n",
       "    </tr>\n",
       "    <tr>\n",
       "      <th>1</th>\n",
       "      <td>zack_snyders_justice_league</td>\n",
       "      <td>Andrew Dex</td>\n",
       "      <td>The current DC Extended Universe can be a bit ...</td>\n",
       "      <td>3/5</td>\n",
       "      <td>May 20, 2021</td>\n",
       "      <td>current dc extended universe bit messy times  ...</td>\n",
       "      <td>negative</td>\n",
       "    </tr>\n",
       "    <tr>\n",
       "      <th>2</th>\n",
       "      <td>zack_snyders_justice_league</td>\n",
       "      <td>Sarah Marrs</td>\n",
       "      <td>While Zack Snyder's Justice League is unquesti...</td>\n",
       "      <td>unrated</td>\n",
       "      <td>May 12, 2021</td>\n",
       "      <td>zack snyder s justice league unquestionably be...</td>\n",
       "      <td>positive</td>\n",
       "    </tr>\n",
       "  </tbody>\n",
       "</table>\n",
       "</div>"
      ],
      "text/plain": [
       "                    movie_name         name  \\\n",
       "0  zack_snyders_justice_league   Matt Lynch   \n",
       "1  zack_snyders_justice_league   Andrew Dex   \n",
       "2  zack_snyders_justice_league  Sarah Marrs   \n",
       "\n",
       "                                              review   rating          date  \\\n",
       "0  Ultimately, that this even exists is almost re...  unrated  June 6, 2021   \n",
       "1  The current DC Extended Universe can be a bit ...      3/5  May 20, 2021   \n",
       "2  While Zack Snyder's Justice League is unquesti...  unrated  May 12, 2021   \n",
       "\n",
       "                                          clean_text sentiment  \n",
       "0                   ultimately  exists reason whirl    neutral  \n",
       "1  current dc extended universe bit messy times  ...  negative  \n",
       "2  zack snyder s justice league unquestionably be...  positive  "
      ]
     },
     "execution_count": 30,
     "metadata": {},
     "output_type": "execute_result"
    }
   ],
   "source": [
    "df1.head(3)"
   ]
  },
  {
   "cell_type": "code",
   "execution_count": 31,
   "metadata": {},
   "outputs": [],
   "source": [
    "x =df1[\"rating\"][1].split(\"/\")"
   ]
  },
  {
   "cell_type": "code",
   "execution_count": 32,
   "metadata": {},
   "outputs": [
    {
     "data": {
      "text/plain": [
       "2"
      ]
     },
     "execution_count": 32,
     "metadata": {},
     "output_type": "execute_result"
    }
   ],
   "source": [
    "len(x)"
   ]
  },
  {
   "cell_type": "code",
   "execution_count": 33,
   "metadata": {},
   "outputs": [
    {
     "name": "stdout",
     "output_type": "stream",
     "text": [
      "6\n"
     ]
    }
   ],
   "source": [
    "if x[1] == \"5\":\n",
    "    c = int(x[0])*2\n",
    "    print(c)\n",
    "else:\n",
    "    pass"
   ]
  },
  {
   "cell_type": "code",
   "execution_count": 34,
   "metadata": {},
   "outputs": [],
   "source": [
    "sentim = pd.DataFrame(columns=[\"rating_out_of_10\"])\n",
    "df1 = pd.concat([df1,sentim],axis=1)"
   ]
  },
  {
   "cell_type": "code",
   "execution_count": 35,
   "metadata": {},
   "outputs": [],
   "source": [
    "j = 0 \n",
    "for rating in df1[\"rating\"]:\n",
    "    x = rating.split(\"/\")\n",
    "    if len(x) >= 2:\n",
    "        if x[1] == \"5\":\n",
    "            c = float(x[0])*2\n",
    "            df1[\"rating_out_of_10\"][j] = c\n",
    "        else:\n",
    "            df1[\"rating_out_of_10\"][j] = x[0]\n",
    "    else:\n",
    "        df1[\"rating_out_of_10\"][j] = x[0]\n",
    "    j+=1"
   ]
  },
  {
   "cell_type": "code",
   "execution_count": 36,
   "metadata": {},
   "outputs": [
    {
     "data": {
      "text/html": [
       "<div>\n",
       "<style scoped>\n",
       "    .dataframe tbody tr th:only-of-type {\n",
       "        vertical-align: middle;\n",
       "    }\n",
       "\n",
       "    .dataframe tbody tr th {\n",
       "        vertical-align: top;\n",
       "    }\n",
       "\n",
       "    .dataframe thead th {\n",
       "        text-align: right;\n",
       "    }\n",
       "</style>\n",
       "<table border=\"1\" class=\"dataframe\">\n",
       "  <thead>\n",
       "    <tr style=\"text-align: right;\">\n",
       "      <th></th>\n",
       "      <th>movie_name</th>\n",
       "      <th>name</th>\n",
       "      <th>review</th>\n",
       "      <th>rating</th>\n",
       "      <th>date</th>\n",
       "      <th>clean_text</th>\n",
       "      <th>sentiment</th>\n",
       "      <th>rating_out_of_10</th>\n",
       "    </tr>\n",
       "  </thead>\n",
       "  <tbody>\n",
       "    <tr>\n",
       "      <th>0</th>\n",
       "      <td>zack_snyders_justice_league</td>\n",
       "      <td>Matt Lynch</td>\n",
       "      <td>Ultimately, that this even exists is almost re...</td>\n",
       "      <td>unrated</td>\n",
       "      <td>June 6, 2021</td>\n",
       "      <td>ultimately  exists reason whirl</td>\n",
       "      <td>neutral</td>\n",
       "      <td>unrated</td>\n",
       "    </tr>\n",
       "    <tr>\n",
       "      <th>1</th>\n",
       "      <td>zack_snyders_justice_league</td>\n",
       "      <td>Andrew Dex</td>\n",
       "      <td>The current DC Extended Universe can be a bit ...</td>\n",
       "      <td>3/5</td>\n",
       "      <td>May 20, 2021</td>\n",
       "      <td>current dc extended universe bit messy times  ...</td>\n",
       "      <td>negative</td>\n",
       "      <td>6</td>\n",
       "    </tr>\n",
       "    <tr>\n",
       "      <th>2</th>\n",
       "      <td>zack_snyders_justice_league</td>\n",
       "      <td>Sarah Marrs</td>\n",
       "      <td>While Zack Snyder's Justice League is unquesti...</td>\n",
       "      <td>unrated</td>\n",
       "      <td>May 12, 2021</td>\n",
       "      <td>zack snyder s justice league unquestionably be...</td>\n",
       "      <td>positive</td>\n",
       "      <td>unrated</td>\n",
       "    </tr>\n",
       "    <tr>\n",
       "      <th>3</th>\n",
       "      <td>zack_snyders_justice_league</td>\n",
       "      <td>Leigh Paatsch</td>\n",
       "      <td>A rip-roaring superhero action picture in its ...</td>\n",
       "      <td>3.5/5</td>\n",
       "      <td>May 12, 2021</td>\n",
       "      <td>rip-roaring superhero action picture right  ju...</td>\n",
       "      <td>neutral</td>\n",
       "      <td>7</td>\n",
       "    </tr>\n",
       "    <tr>\n",
       "      <th>4</th>\n",
       "      <td>zack_snyders_justice_league</td>\n",
       "      <td>Matt Hudson</td>\n",
       "      <td>An upgrade to be sure and one that will deligh...</td>\n",
       "      <td>7.5/10</td>\n",
       "      <td>April 29, 2021</td>\n",
       "      <td>upgrade sure delight snyder fans  dc fans  com...</td>\n",
       "      <td>positive</td>\n",
       "      <td>7.5</td>\n",
       "    </tr>\n",
       "  </tbody>\n",
       "</table>\n",
       "</div>"
      ],
      "text/plain": [
       "                    movie_name           name  \\\n",
       "0  zack_snyders_justice_league     Matt Lynch   \n",
       "1  zack_snyders_justice_league     Andrew Dex   \n",
       "2  zack_snyders_justice_league    Sarah Marrs   \n",
       "3  zack_snyders_justice_league  Leigh Paatsch   \n",
       "4  zack_snyders_justice_league    Matt Hudson   \n",
       "\n",
       "                                              review   rating            date  \\\n",
       "0  Ultimately, that this even exists is almost re...  unrated    June 6, 2021   \n",
       "1  The current DC Extended Universe can be a bit ...      3/5    May 20, 2021   \n",
       "2  While Zack Snyder's Justice League is unquesti...  unrated    May 12, 2021   \n",
       "3  A rip-roaring superhero action picture in its ...    3.5/5    May 12, 2021   \n",
       "4  An upgrade to be sure and one that will deligh...   7.5/10  April 29, 2021   \n",
       "\n",
       "                                          clean_text sentiment  \\\n",
       "0                   ultimately  exists reason whirl    neutral   \n",
       "1  current dc extended universe bit messy times  ...  negative   \n",
       "2  zack snyder s justice league unquestionably be...  positive   \n",
       "3  rip-roaring superhero action picture right  ju...   neutral   \n",
       "4  upgrade sure delight snyder fans  dc fans  com...  positive   \n",
       "\n",
       "  rating_out_of_10  \n",
       "0          unrated  \n",
       "1                6  \n",
       "2          unrated  \n",
       "3                7  \n",
       "4              7.5  "
      ]
     },
     "execution_count": 36,
     "metadata": {},
     "output_type": "execute_result"
    }
   ],
   "source": [
    "df1.head()"
   ]
  },
  {
   "cell_type": "code",
   "execution_count": 37,
   "metadata": {},
   "outputs": [
    {
     "data": {
      "text/plain": [
       "unrated    454\n",
       "8.0        186\n",
       "6.0         83\n",
       "10.0        73\n",
       "3           69\n",
       "          ... \n",
       "6.5          1\n",
       "78           1\n",
       "8.7          1\n",
       "8.8          1\n",
       "D+           1\n",
       "Name: rating_out_of_10, Length: 67, dtype: int64"
      ]
     },
     "execution_count": 37,
     "metadata": {},
     "output_type": "execute_result"
    }
   ],
   "source": [
    "df1[\"rating_out_of_10\"].value_counts()"
   ]
  },
  {
   "cell_type": "code",
   "execution_count": 38,
   "metadata": {},
   "outputs": [],
   "source": [
    "top = df1[df1[\"rating_out_of_10\"]==10]"
   ]
  },
  {
   "cell_type": "code",
   "execution_count": 39,
   "metadata": {},
   "outputs": [
    {
     "data": {
      "text/plain": [
       "positive    58\n",
       "negative     8\n",
       "neutral      7\n",
       "Name: sentiment, dtype: int64"
      ]
     },
     "execution_count": 39,
     "metadata": {},
     "output_type": "execute_result"
    }
   ],
   "source": [
    "top[\"sentiment\"].value_counts()"
   ]
  },
  {
   "cell_type": "code",
   "execution_count": 40,
   "metadata": {},
   "outputs": [
    {
     "data": {
      "text/plain": [
       "dtype('O')"
      ]
     },
     "execution_count": 40,
     "metadata": {},
     "output_type": "execute_result"
    }
   ],
   "source": [
    "df1[\"rating_out_of_10\"].dtype"
   ]
  },
  {
   "cell_type": "code",
   "execution_count": 41,
   "metadata": {},
   "outputs": [
    {
     "data": {
      "text/html": [
       "<div>\n",
       "<style scoped>\n",
       "    .dataframe tbody tr th:only-of-type {\n",
       "        vertical-align: middle;\n",
       "    }\n",
       "\n",
       "    .dataframe tbody tr th {\n",
       "        vertical-align: top;\n",
       "    }\n",
       "\n",
       "    .dataframe thead th {\n",
       "        text-align: right;\n",
       "    }\n",
       "</style>\n",
       "<table border=\"1\" class=\"dataframe\">\n",
       "  <thead>\n",
       "    <tr style=\"text-align: right;\">\n",
       "      <th></th>\n",
       "      <th>movie_name</th>\n",
       "      <th>name</th>\n",
       "      <th>review</th>\n",
       "      <th>rating</th>\n",
       "      <th>date</th>\n",
       "      <th>clean_text</th>\n",
       "      <th>sentiment</th>\n",
       "      <th>rating_out_of_10</th>\n",
       "    </tr>\n",
       "  </thead>\n",
       "  <tbody>\n",
       "    <tr>\n",
       "      <th>0</th>\n",
       "      <td>zack_snyders_justice_league</td>\n",
       "      <td>Matt Lynch</td>\n",
       "      <td>Ultimately, that this even exists is almost re...</td>\n",
       "      <td>unrated</td>\n",
       "      <td>June 6, 2021</td>\n",
       "      <td>ultimately  exists reason whirl</td>\n",
       "      <td>neutral</td>\n",
       "      <td>unrated</td>\n",
       "    </tr>\n",
       "    <tr>\n",
       "      <th>1</th>\n",
       "      <td>zack_snyders_justice_league</td>\n",
       "      <td>Andrew Dex</td>\n",
       "      <td>The current DC Extended Universe can be a bit ...</td>\n",
       "      <td>3/5</td>\n",
       "      <td>May 20, 2021</td>\n",
       "      <td>current dc extended universe bit messy times  ...</td>\n",
       "      <td>negative</td>\n",
       "      <td>6</td>\n",
       "    </tr>\n",
       "    <tr>\n",
       "      <th>2</th>\n",
       "      <td>zack_snyders_justice_league</td>\n",
       "      <td>Sarah Marrs</td>\n",
       "      <td>While Zack Snyder's Justice League is unquesti...</td>\n",
       "      <td>unrated</td>\n",
       "      <td>May 12, 2021</td>\n",
       "      <td>zack snyder s justice league unquestionably be...</td>\n",
       "      <td>positive</td>\n",
       "      <td>unrated</td>\n",
       "    </tr>\n",
       "    <tr>\n",
       "      <th>3</th>\n",
       "      <td>zack_snyders_justice_league</td>\n",
       "      <td>Leigh Paatsch</td>\n",
       "      <td>A rip-roaring superhero action picture in its ...</td>\n",
       "      <td>3.5/5</td>\n",
       "      <td>May 12, 2021</td>\n",
       "      <td>rip-roaring superhero action picture right  ju...</td>\n",
       "      <td>neutral</td>\n",
       "      <td>7</td>\n",
       "    </tr>\n",
       "    <tr>\n",
       "      <th>4</th>\n",
       "      <td>zack_snyders_justice_league</td>\n",
       "      <td>Matt Hudson</td>\n",
       "      <td>An upgrade to be sure and one that will deligh...</td>\n",
       "      <td>7.5/10</td>\n",
       "      <td>April 29, 2021</td>\n",
       "      <td>upgrade sure delight snyder fans  dc fans  com...</td>\n",
       "      <td>positive</td>\n",
       "      <td>7.5</td>\n",
       "    </tr>\n",
       "  </tbody>\n",
       "</table>\n",
       "</div>"
      ],
      "text/plain": [
       "                    movie_name           name  \\\n",
       "0  zack_snyders_justice_league     Matt Lynch   \n",
       "1  zack_snyders_justice_league     Andrew Dex   \n",
       "2  zack_snyders_justice_league    Sarah Marrs   \n",
       "3  zack_snyders_justice_league  Leigh Paatsch   \n",
       "4  zack_snyders_justice_league    Matt Hudson   \n",
       "\n",
       "                                              review   rating            date  \\\n",
       "0  Ultimately, that this even exists is almost re...  unrated    June 6, 2021   \n",
       "1  The current DC Extended Universe can be a bit ...      3/5    May 20, 2021   \n",
       "2  While Zack Snyder's Justice League is unquesti...  unrated    May 12, 2021   \n",
       "3  A rip-roaring superhero action picture in its ...    3.5/5    May 12, 2021   \n",
       "4  An upgrade to be sure and one that will deligh...   7.5/10  April 29, 2021   \n",
       "\n",
       "                                          clean_text sentiment  \\\n",
       "0                   ultimately  exists reason whirl    neutral   \n",
       "1  current dc extended universe bit messy times  ...  negative   \n",
       "2  zack snyder s justice league unquestionably be...  positive   \n",
       "3  rip-roaring superhero action picture right  ju...   neutral   \n",
       "4  upgrade sure delight snyder fans  dc fans  com...  positive   \n",
       "\n",
       "  rating_out_of_10  \n",
       "0          unrated  \n",
       "1                6  \n",
       "2          unrated  \n",
       "3                7  \n",
       "4              7.5  "
      ]
     },
     "execution_count": 41,
     "metadata": {},
     "output_type": "execute_result"
    }
   ],
   "source": [
    "df1.head()"
   ]
  },
  {
   "cell_type": "code",
   "execution_count": 42,
   "metadata": {},
   "outputs": [],
   "source": [
    "df1[\"rating_out_of_10\"].replace({\"unrated\":0},inplace=True)"
   ]
  },
  {
   "cell_type": "code",
   "execution_count": 43,
   "metadata": {},
   "outputs": [
    {
     "data": {
      "text/html": [
       "<div>\n",
       "<style scoped>\n",
       "    .dataframe tbody tr th:only-of-type {\n",
       "        vertical-align: middle;\n",
       "    }\n",
       "\n",
       "    .dataframe tbody tr th {\n",
       "        vertical-align: top;\n",
       "    }\n",
       "\n",
       "    .dataframe thead th {\n",
       "        text-align: right;\n",
       "    }\n",
       "</style>\n",
       "<table border=\"1\" class=\"dataframe\">\n",
       "  <thead>\n",
       "    <tr style=\"text-align: right;\">\n",
       "      <th></th>\n",
       "      <th>movie_name</th>\n",
       "      <th>name</th>\n",
       "      <th>review</th>\n",
       "      <th>rating</th>\n",
       "      <th>date</th>\n",
       "      <th>clean_text</th>\n",
       "      <th>sentiment</th>\n",
       "      <th>rating_out_of_10</th>\n",
       "    </tr>\n",
       "  </thead>\n",
       "  <tbody>\n",
       "    <tr>\n",
       "      <th>0</th>\n",
       "      <td>zack_snyders_justice_league</td>\n",
       "      <td>Matt Lynch</td>\n",
       "      <td>Ultimately, that this even exists is almost re...</td>\n",
       "      <td>unrated</td>\n",
       "      <td>June 6, 2021</td>\n",
       "      <td>ultimately  exists reason whirl</td>\n",
       "      <td>neutral</td>\n",
       "      <td>0</td>\n",
       "    </tr>\n",
       "    <tr>\n",
       "      <th>1</th>\n",
       "      <td>zack_snyders_justice_league</td>\n",
       "      <td>Andrew Dex</td>\n",
       "      <td>The current DC Extended Universe can be a bit ...</td>\n",
       "      <td>3/5</td>\n",
       "      <td>May 20, 2021</td>\n",
       "      <td>current dc extended universe bit messy times  ...</td>\n",
       "      <td>negative</td>\n",
       "      <td>6</td>\n",
       "    </tr>\n",
       "    <tr>\n",
       "      <th>2</th>\n",
       "      <td>zack_snyders_justice_league</td>\n",
       "      <td>Sarah Marrs</td>\n",
       "      <td>While Zack Snyder's Justice League is unquesti...</td>\n",
       "      <td>unrated</td>\n",
       "      <td>May 12, 2021</td>\n",
       "      <td>zack snyder s justice league unquestionably be...</td>\n",
       "      <td>positive</td>\n",
       "      <td>0</td>\n",
       "    </tr>\n",
       "    <tr>\n",
       "      <th>3</th>\n",
       "      <td>zack_snyders_justice_league</td>\n",
       "      <td>Leigh Paatsch</td>\n",
       "      <td>A rip-roaring superhero action picture in its ...</td>\n",
       "      <td>3.5/5</td>\n",
       "      <td>May 12, 2021</td>\n",
       "      <td>rip-roaring superhero action picture right  ju...</td>\n",
       "      <td>neutral</td>\n",
       "      <td>7</td>\n",
       "    </tr>\n",
       "    <tr>\n",
       "      <th>4</th>\n",
       "      <td>zack_snyders_justice_league</td>\n",
       "      <td>Matt Hudson</td>\n",
       "      <td>An upgrade to be sure and one that will deligh...</td>\n",
       "      <td>7.5/10</td>\n",
       "      <td>April 29, 2021</td>\n",
       "      <td>upgrade sure delight snyder fans  dc fans  com...</td>\n",
       "      <td>positive</td>\n",
       "      <td>7.5</td>\n",
       "    </tr>\n",
       "  </tbody>\n",
       "</table>\n",
       "</div>"
      ],
      "text/plain": [
       "                    movie_name           name  \\\n",
       "0  zack_snyders_justice_league     Matt Lynch   \n",
       "1  zack_snyders_justice_league     Andrew Dex   \n",
       "2  zack_snyders_justice_league    Sarah Marrs   \n",
       "3  zack_snyders_justice_league  Leigh Paatsch   \n",
       "4  zack_snyders_justice_league    Matt Hudson   \n",
       "\n",
       "                                              review   rating            date  \\\n",
       "0  Ultimately, that this even exists is almost re...  unrated    June 6, 2021   \n",
       "1  The current DC Extended Universe can be a bit ...      3/5    May 20, 2021   \n",
       "2  While Zack Snyder's Justice League is unquesti...  unrated    May 12, 2021   \n",
       "3  A rip-roaring superhero action picture in its ...    3.5/5    May 12, 2021   \n",
       "4  An upgrade to be sure and one that will deligh...   7.5/10  April 29, 2021   \n",
       "\n",
       "                                          clean_text sentiment  \\\n",
       "0                   ultimately  exists reason whirl    neutral   \n",
       "1  current dc extended universe bit messy times  ...  negative   \n",
       "2  zack snyder s justice league unquestionably be...  positive   \n",
       "3  rip-roaring superhero action picture right  ju...   neutral   \n",
       "4  upgrade sure delight snyder fans  dc fans  com...  positive   \n",
       "\n",
       "  rating_out_of_10  \n",
       "0                0  \n",
       "1                6  \n",
       "2                0  \n",
       "3                7  \n",
       "4              7.5  "
      ]
     },
     "execution_count": 43,
     "metadata": {},
     "output_type": "execute_result"
    }
   ],
   "source": [
    "df1.head()"
   ]
  },
  {
   "cell_type": "code",
   "execution_count": 44,
   "metadata": {},
   "outputs": [],
   "source": [
    "df1[\"rating_out_of_10\"].replace({\"C-\":0,\"B\":0,\"B+\":0,\"A+\":0,\"A-\":0,\"D-\":0,\"C\":0,\"B-\":0,\"Matinee\":0,\"A\":0,\"D+\":0,\"C+\":0,\"D\":0},inplace=True)"
   ]
  },
  {
   "cell_type": "code",
   "execution_count": 45,
   "metadata": {},
   "outputs": [
    {
     "data": {
      "text/html": [
       "<div>\n",
       "<style scoped>\n",
       "    .dataframe tbody tr th:only-of-type {\n",
       "        vertical-align: middle;\n",
       "    }\n",
       "\n",
       "    .dataframe tbody tr th {\n",
       "        vertical-align: top;\n",
       "    }\n",
       "\n",
       "    .dataframe thead th {\n",
       "        text-align: right;\n",
       "    }\n",
       "</style>\n",
       "<table border=\"1\" class=\"dataframe\">\n",
       "  <thead>\n",
       "    <tr style=\"text-align: right;\">\n",
       "      <th></th>\n",
       "      <th>movie_name</th>\n",
       "      <th>name</th>\n",
       "      <th>review</th>\n",
       "      <th>rating</th>\n",
       "      <th>date</th>\n",
       "      <th>clean_text</th>\n",
       "      <th>sentiment</th>\n",
       "      <th>rating_out_of_10</th>\n",
       "    </tr>\n",
       "  </thead>\n",
       "  <tbody>\n",
       "    <tr>\n",
       "      <th>595</th>\n",
       "      <td>avengers_endgame</td>\n",
       "      <td>Abby Olcese</td>\n",
       "      <td>Despite a few shortcomings, Avengers: Endgame ...</td>\n",
       "      <td>78/100</td>\n",
       "      <td>April 25, 2019</td>\n",
       "      <td>despite shortcomings  avengers  endgame affect...</td>\n",
       "      <td>positive</td>\n",
       "      <td>78</td>\n",
       "    </tr>\n",
       "  </tbody>\n",
       "</table>\n",
       "</div>"
      ],
      "text/plain": [
       "           movie_name         name  \\\n",
       "595  avengers_endgame  Abby Olcese   \n",
       "\n",
       "                                                review  rating  \\\n",
       "595  Despite a few shortcomings, Avengers: Endgame ...  78/100   \n",
       "\n",
       "               date                                         clean_text  \\\n",
       "595  April 25, 2019  despite shortcomings  avengers  endgame affect...   \n",
       "\n",
       "    sentiment rating_out_of_10  \n",
       "595  positive               78  "
      ]
     },
     "execution_count": 45,
     "metadata": {},
     "output_type": "execute_result"
    }
   ],
   "source": [
    "df1[df1[\"rating_out_of_10\"]==\"78\"]"
   ]
  },
  {
   "cell_type": "code",
   "execution_count": 46,
   "metadata": {},
   "outputs": [],
   "source": [
    "df1[\"rating_out_of_10\"].replace({\"B-minus\":0,\"90\":9.0,\"78\":7.8,\"B-+\":0,\"83\":8.3,\"B-plus\":0,\"87\":8.7,\"16\":1.6,\"88\":8.8,\"18\":1.8,\"14.5\":7.5,\"Big\":0},inplace=True)"
   ]
  },
  {
   "cell_type": "code",
   "execution_count": 47,
   "metadata": {},
   "outputs": [
    {
     "data": {
      "text/plain": [
       "movie_name          object\n",
       "name                object\n",
       "review              object\n",
       "rating              object\n",
       "date                object\n",
       "clean_text          object\n",
       "sentiment           object\n",
       "rating_out_of_10    object\n",
       "dtype: object"
      ]
     },
     "execution_count": 47,
     "metadata": {},
     "output_type": "execute_result"
    }
   ],
   "source": [
    "df1.dtypes"
   ]
  },
  {
   "cell_type": "code",
   "execution_count": 48,
   "metadata": {},
   "outputs": [],
   "source": [
    "df1 = df1.astype({\"rating_out_of_10\":float})"
   ]
  },
  {
   "cell_type": "code",
   "execution_count": 49,
   "metadata": {},
   "outputs": [
    {
     "data": {
      "text/html": [
       "<div>\n",
       "<style scoped>\n",
       "    .dataframe tbody tr th:only-of-type {\n",
       "        vertical-align: middle;\n",
       "    }\n",
       "\n",
       "    .dataframe tbody tr th {\n",
       "        vertical-align: top;\n",
       "    }\n",
       "\n",
       "    .dataframe thead th {\n",
       "        text-align: right;\n",
       "    }\n",
       "</style>\n",
       "<table border=\"1\" class=\"dataframe\">\n",
       "  <thead>\n",
       "    <tr style=\"text-align: right;\">\n",
       "      <th></th>\n",
       "      <th>movie_name</th>\n",
       "      <th>name</th>\n",
       "      <th>review</th>\n",
       "      <th>rating</th>\n",
       "      <th>date</th>\n",
       "      <th>clean_text</th>\n",
       "      <th>sentiment</th>\n",
       "      <th>rating_out_of_10</th>\n",
       "    </tr>\n",
       "  </thead>\n",
       "  <tbody>\n",
       "    <tr>\n",
       "      <th>0</th>\n",
       "      <td>zack_snyders_justice_league</td>\n",
       "      <td>Matt Lynch</td>\n",
       "      <td>Ultimately, that this even exists is almost re...</td>\n",
       "      <td>unrated</td>\n",
       "      <td>June 6, 2021</td>\n",
       "      <td>ultimately  exists reason whirl</td>\n",
       "      <td>neutral</td>\n",
       "      <td>0.0</td>\n",
       "    </tr>\n",
       "    <tr>\n",
       "      <th>1</th>\n",
       "      <td>zack_snyders_justice_league</td>\n",
       "      <td>Andrew Dex</td>\n",
       "      <td>The current DC Extended Universe can be a bit ...</td>\n",
       "      <td>3/5</td>\n",
       "      <td>May 20, 2021</td>\n",
       "      <td>current dc extended universe bit messy times  ...</td>\n",
       "      <td>negative</td>\n",
       "      <td>6.0</td>\n",
       "    </tr>\n",
       "    <tr>\n",
       "      <th>2</th>\n",
       "      <td>zack_snyders_justice_league</td>\n",
       "      <td>Sarah Marrs</td>\n",
       "      <td>While Zack Snyder's Justice League is unquesti...</td>\n",
       "      <td>unrated</td>\n",
       "      <td>May 12, 2021</td>\n",
       "      <td>zack snyder s justice league unquestionably be...</td>\n",
       "      <td>positive</td>\n",
       "      <td>0.0</td>\n",
       "    </tr>\n",
       "    <tr>\n",
       "      <th>3</th>\n",
       "      <td>zack_snyders_justice_league</td>\n",
       "      <td>Leigh Paatsch</td>\n",
       "      <td>A rip-roaring superhero action picture in its ...</td>\n",
       "      <td>3.5/5</td>\n",
       "      <td>May 12, 2021</td>\n",
       "      <td>rip-roaring superhero action picture right  ju...</td>\n",
       "      <td>neutral</td>\n",
       "      <td>7.0</td>\n",
       "    </tr>\n",
       "    <tr>\n",
       "      <th>4</th>\n",
       "      <td>zack_snyders_justice_league</td>\n",
       "      <td>Matt Hudson</td>\n",
       "      <td>An upgrade to be sure and one that will deligh...</td>\n",
       "      <td>7.5/10</td>\n",
       "      <td>April 29, 2021</td>\n",
       "      <td>upgrade sure delight snyder fans  dc fans  com...</td>\n",
       "      <td>positive</td>\n",
       "      <td>7.5</td>\n",
       "    </tr>\n",
       "  </tbody>\n",
       "</table>\n",
       "</div>"
      ],
      "text/plain": [
       "                    movie_name           name  \\\n",
       "0  zack_snyders_justice_league     Matt Lynch   \n",
       "1  zack_snyders_justice_league     Andrew Dex   \n",
       "2  zack_snyders_justice_league    Sarah Marrs   \n",
       "3  zack_snyders_justice_league  Leigh Paatsch   \n",
       "4  zack_snyders_justice_league    Matt Hudson   \n",
       "\n",
       "                                              review   rating            date  \\\n",
       "0  Ultimately, that this even exists is almost re...  unrated    June 6, 2021   \n",
       "1  The current DC Extended Universe can be a bit ...      3/5    May 20, 2021   \n",
       "2  While Zack Snyder's Justice League is unquesti...  unrated    May 12, 2021   \n",
       "3  A rip-roaring superhero action picture in its ...    3.5/5    May 12, 2021   \n",
       "4  An upgrade to be sure and one that will deligh...   7.5/10  April 29, 2021   \n",
       "\n",
       "                                          clean_text sentiment  \\\n",
       "0                   ultimately  exists reason whirl    neutral   \n",
       "1  current dc extended universe bit messy times  ...  negative   \n",
       "2  zack snyder s justice league unquestionably be...  positive   \n",
       "3  rip-roaring superhero action picture right  ju...   neutral   \n",
       "4  upgrade sure delight snyder fans  dc fans  com...  positive   \n",
       "\n",
       "   rating_out_of_10  \n",
       "0               0.0  \n",
       "1               6.0  \n",
       "2               0.0  \n",
       "3               7.0  \n",
       "4               7.5  "
      ]
     },
     "execution_count": 49,
     "metadata": {},
     "output_type": "execute_result"
    }
   ],
   "source": [
    "df1.head()"
   ]
  },
  {
   "cell_type": "code",
   "execution_count": 50,
   "metadata": {},
   "outputs": [],
   "source": [
    "j=0\n",
    "for rating in df1[\"rating_out_of_10\"]:\n",
    "    if rating > 7.0:\n",
    "        df1[\"sentiment\"][j] = \"positive\"\n",
    "    else:\n",
    "        pass\n",
    "    j+=1"
   ]
  },
  {
   "cell_type": "code",
   "execution_count": 51,
   "metadata": {},
   "outputs": [
    {
     "data": {
      "text/html": [
       "<div>\n",
       "<style scoped>\n",
       "    .dataframe tbody tr th:only-of-type {\n",
       "        vertical-align: middle;\n",
       "    }\n",
       "\n",
       "    .dataframe tbody tr th {\n",
       "        vertical-align: top;\n",
       "    }\n",
       "\n",
       "    .dataframe thead th {\n",
       "        text-align: right;\n",
       "    }\n",
       "</style>\n",
       "<table border=\"1\" class=\"dataframe\">\n",
       "  <thead>\n",
       "    <tr style=\"text-align: right;\">\n",
       "      <th></th>\n",
       "      <th>movie_name</th>\n",
       "      <th>name</th>\n",
       "      <th>review</th>\n",
       "      <th>rating</th>\n",
       "      <th>date</th>\n",
       "      <th>clean_text</th>\n",
       "      <th>sentiment</th>\n",
       "      <th>rating_out_of_10</th>\n",
       "    </tr>\n",
       "  </thead>\n",
       "  <tbody>\n",
       "    <tr>\n",
       "      <th>0</th>\n",
       "      <td>zack_snyders_justice_league</td>\n",
       "      <td>Matt Lynch</td>\n",
       "      <td>Ultimately, that this even exists is almost re...</td>\n",
       "      <td>unrated</td>\n",
       "      <td>June 6, 2021</td>\n",
       "      <td>ultimately  exists reason whirl</td>\n",
       "      <td>neutral</td>\n",
       "      <td>0.0</td>\n",
       "    </tr>\n",
       "    <tr>\n",
       "      <th>1</th>\n",
       "      <td>zack_snyders_justice_league</td>\n",
       "      <td>Andrew Dex</td>\n",
       "      <td>The current DC Extended Universe can be a bit ...</td>\n",
       "      <td>3/5</td>\n",
       "      <td>May 20, 2021</td>\n",
       "      <td>current dc extended universe bit messy times  ...</td>\n",
       "      <td>negative</td>\n",
       "      <td>6.0</td>\n",
       "    </tr>\n",
       "    <tr>\n",
       "      <th>2</th>\n",
       "      <td>zack_snyders_justice_league</td>\n",
       "      <td>Sarah Marrs</td>\n",
       "      <td>While Zack Snyder's Justice League is unquesti...</td>\n",
       "      <td>unrated</td>\n",
       "      <td>May 12, 2021</td>\n",
       "      <td>zack snyder s justice league unquestionably be...</td>\n",
       "      <td>positive</td>\n",
       "      <td>0.0</td>\n",
       "    </tr>\n",
       "    <tr>\n",
       "      <th>3</th>\n",
       "      <td>zack_snyders_justice_league</td>\n",
       "      <td>Leigh Paatsch</td>\n",
       "      <td>A rip-roaring superhero action picture in its ...</td>\n",
       "      <td>3.5/5</td>\n",
       "      <td>May 12, 2021</td>\n",
       "      <td>rip-roaring superhero action picture right  ju...</td>\n",
       "      <td>neutral</td>\n",
       "      <td>7.0</td>\n",
       "    </tr>\n",
       "    <tr>\n",
       "      <th>4</th>\n",
       "      <td>zack_snyders_justice_league</td>\n",
       "      <td>Matt Hudson</td>\n",
       "      <td>An upgrade to be sure and one that will deligh...</td>\n",
       "      <td>7.5/10</td>\n",
       "      <td>April 29, 2021</td>\n",
       "      <td>upgrade sure delight snyder fans  dc fans  com...</td>\n",
       "      <td>positive</td>\n",
       "      <td>7.5</td>\n",
       "    </tr>\n",
       "  </tbody>\n",
       "</table>\n",
       "</div>"
      ],
      "text/plain": [
       "                    movie_name           name  \\\n",
       "0  zack_snyders_justice_league     Matt Lynch   \n",
       "1  zack_snyders_justice_league     Andrew Dex   \n",
       "2  zack_snyders_justice_league    Sarah Marrs   \n",
       "3  zack_snyders_justice_league  Leigh Paatsch   \n",
       "4  zack_snyders_justice_league    Matt Hudson   \n",
       "\n",
       "                                              review   rating            date  \\\n",
       "0  Ultimately, that this even exists is almost re...  unrated    June 6, 2021   \n",
       "1  The current DC Extended Universe can be a bit ...      3/5    May 20, 2021   \n",
       "2  While Zack Snyder's Justice League is unquesti...  unrated    May 12, 2021   \n",
       "3  A rip-roaring superhero action picture in its ...    3.5/5    May 12, 2021   \n",
       "4  An upgrade to be sure and one that will deligh...   7.5/10  April 29, 2021   \n",
       "\n",
       "                                          clean_text sentiment  \\\n",
       "0                   ultimately  exists reason whirl    neutral   \n",
       "1  current dc extended universe bit messy times  ...  negative   \n",
       "2  zack snyder s justice league unquestionably be...  positive   \n",
       "3  rip-roaring superhero action picture right  ju...   neutral   \n",
       "4  upgrade sure delight snyder fans  dc fans  com...  positive   \n",
       "\n",
       "   rating_out_of_10  \n",
       "0               0.0  \n",
       "1               6.0  \n",
       "2               0.0  \n",
       "3               7.0  \n",
       "4               7.5  "
      ]
     },
     "execution_count": 51,
     "metadata": {},
     "output_type": "execute_result"
    }
   ],
   "source": [
    "df1.head()"
   ]
  },
  {
   "cell_type": "code",
   "execution_count": 52,
   "metadata": {},
   "outputs": [],
   "source": [
    "r_s = pd.DataFrame(columns=[\"rating_sentiment\"])\n",
    "df1 = pd.concat([df1,r_s],axis=1)"
   ]
  },
  {
   "cell_type": "code",
   "execution_count": 53,
   "metadata": {},
   "outputs": [],
   "source": [
    "j = 0 \n",
    "length = len(df1[\"rating_out_of_10\"])\n",
    "\n",
    "for i in range (0,length):\n",
    "    if df1[\"rating_out_of_10\"][i] >= 8.0 :\n",
    "        df1[\"rating_sentiment\"][j] = \"Excellent\"\n",
    "        \n",
    "    elif df1[\"rating_out_of_10\"][i] >= 6.0 :\n",
    "        df1[\"rating_sentiment\"][j] = \"Good\"\n",
    "        \n",
    "    elif df1[\"rating_out_of_10\"][i] >=4.0 :\n",
    "        df1[\"rating_sentiment\"][j] = \"Average\"\n",
    "        \n",
    "    elif df1[\"rating_out_of_10\"][i] == 0.0 :\n",
    "        df1[\"rating_sentiment\"][j] = \"unrated\"\n",
    "        \n",
    "    elif df1[\"rating_out_of_10\"][i] <= 3.0 :\n",
    "        df1[\"rating_sentiment\"][j] = \"Poor\"    \n",
    "    j+=1"
   ]
  },
  {
   "cell_type": "code",
   "execution_count": 54,
   "metadata": {},
   "outputs": [
    {
     "data": {
      "text/html": [
       "<div>\n",
       "<style scoped>\n",
       "    .dataframe tbody tr th:only-of-type {\n",
       "        vertical-align: middle;\n",
       "    }\n",
       "\n",
       "    .dataframe tbody tr th {\n",
       "        vertical-align: top;\n",
       "    }\n",
       "\n",
       "    .dataframe thead th {\n",
       "        text-align: right;\n",
       "    }\n",
       "</style>\n",
       "<table border=\"1\" class=\"dataframe\">\n",
       "  <thead>\n",
       "    <tr style=\"text-align: right;\">\n",
       "      <th></th>\n",
       "      <th>movie_name</th>\n",
       "      <th>name</th>\n",
       "      <th>review</th>\n",
       "      <th>rating</th>\n",
       "      <th>date</th>\n",
       "      <th>clean_text</th>\n",
       "      <th>sentiment</th>\n",
       "      <th>rating_out_of_10</th>\n",
       "      <th>rating_sentiment</th>\n",
       "    </tr>\n",
       "  </thead>\n",
       "  <tbody>\n",
       "    <tr>\n",
       "      <th>0</th>\n",
       "      <td>zack_snyders_justice_league</td>\n",
       "      <td>Matt Lynch</td>\n",
       "      <td>Ultimately, that this even exists is almost re...</td>\n",
       "      <td>unrated</td>\n",
       "      <td>June 6, 2021</td>\n",
       "      <td>ultimately  exists reason whirl</td>\n",
       "      <td>neutral</td>\n",
       "      <td>0.0</td>\n",
       "      <td>unrated</td>\n",
       "    </tr>\n",
       "    <tr>\n",
       "      <th>1</th>\n",
       "      <td>zack_snyders_justice_league</td>\n",
       "      <td>Andrew Dex</td>\n",
       "      <td>The current DC Extended Universe can be a bit ...</td>\n",
       "      <td>3/5</td>\n",
       "      <td>May 20, 2021</td>\n",
       "      <td>current dc extended universe bit messy times  ...</td>\n",
       "      <td>negative</td>\n",
       "      <td>6.0</td>\n",
       "      <td>Good</td>\n",
       "    </tr>\n",
       "    <tr>\n",
       "      <th>2</th>\n",
       "      <td>zack_snyders_justice_league</td>\n",
       "      <td>Sarah Marrs</td>\n",
       "      <td>While Zack Snyder's Justice League is unquesti...</td>\n",
       "      <td>unrated</td>\n",
       "      <td>May 12, 2021</td>\n",
       "      <td>zack snyder s justice league unquestionably be...</td>\n",
       "      <td>positive</td>\n",
       "      <td>0.0</td>\n",
       "      <td>unrated</td>\n",
       "    </tr>\n",
       "    <tr>\n",
       "      <th>3</th>\n",
       "      <td>zack_snyders_justice_league</td>\n",
       "      <td>Leigh Paatsch</td>\n",
       "      <td>A rip-roaring superhero action picture in its ...</td>\n",
       "      <td>3.5/5</td>\n",
       "      <td>May 12, 2021</td>\n",
       "      <td>rip-roaring superhero action picture right  ju...</td>\n",
       "      <td>neutral</td>\n",
       "      <td>7.0</td>\n",
       "      <td>Good</td>\n",
       "    </tr>\n",
       "    <tr>\n",
       "      <th>4</th>\n",
       "      <td>zack_snyders_justice_league</td>\n",
       "      <td>Matt Hudson</td>\n",
       "      <td>An upgrade to be sure and one that will deligh...</td>\n",
       "      <td>7.5/10</td>\n",
       "      <td>April 29, 2021</td>\n",
       "      <td>upgrade sure delight snyder fans  dc fans  com...</td>\n",
       "      <td>positive</td>\n",
       "      <td>7.5</td>\n",
       "      <td>Good</td>\n",
       "    </tr>\n",
       "  </tbody>\n",
       "</table>\n",
       "</div>"
      ],
      "text/plain": [
       "                    movie_name           name  \\\n",
       "0  zack_snyders_justice_league     Matt Lynch   \n",
       "1  zack_snyders_justice_league     Andrew Dex   \n",
       "2  zack_snyders_justice_league    Sarah Marrs   \n",
       "3  zack_snyders_justice_league  Leigh Paatsch   \n",
       "4  zack_snyders_justice_league    Matt Hudson   \n",
       "\n",
       "                                              review   rating            date  \\\n",
       "0  Ultimately, that this even exists is almost re...  unrated    June 6, 2021   \n",
       "1  The current DC Extended Universe can be a bit ...      3/5    May 20, 2021   \n",
       "2  While Zack Snyder's Justice League is unquesti...  unrated    May 12, 2021   \n",
       "3  A rip-roaring superhero action picture in its ...    3.5/5    May 12, 2021   \n",
       "4  An upgrade to be sure and one that will deligh...   7.5/10  April 29, 2021   \n",
       "\n",
       "                                          clean_text sentiment  \\\n",
       "0                   ultimately  exists reason whirl    neutral   \n",
       "1  current dc extended universe bit messy times  ...  negative   \n",
       "2  zack snyder s justice league unquestionably be...  positive   \n",
       "3  rip-roaring superhero action picture right  ju...   neutral   \n",
       "4  upgrade sure delight snyder fans  dc fans  com...  positive   \n",
       "\n",
       "   rating_out_of_10 rating_sentiment  \n",
       "0               0.0          unrated  \n",
       "1               6.0             Good  \n",
       "2               0.0          unrated  \n",
       "3               7.0             Good  \n",
       "4               7.5             Good  "
      ]
     },
     "execution_count": 54,
     "metadata": {},
     "output_type": "execute_result"
    }
   ],
   "source": [
    "df1.head()"
   ]
  },
  {
   "cell_type": "code",
   "execution_count": 55,
   "metadata": {},
   "outputs": [
    {
     "data": {
      "text/plain": [
       "unrated      615\n",
       "Excellent    420\n",
       "Good         215\n",
       "Poor         140\n",
       "Average       99\n",
       "Name: rating_sentiment, dtype: int64"
      ]
     },
     "execution_count": 55,
     "metadata": {},
     "output_type": "execute_result"
    }
   ],
   "source": [
    "df1[\"rating_sentiment\"].value_counts()"
   ]
  },
  {
   "cell_type": "code",
   "execution_count": 56,
   "metadata": {},
   "outputs": [],
   "source": [
    "df2 = df1.drop([\"rating\",\"clean_text\"],axis=1)"
   ]
  },
  {
   "cell_type": "code",
   "execution_count": 57,
   "metadata": {},
   "outputs": [
    {
     "data": {
      "text/html": [
       "<div>\n",
       "<style scoped>\n",
       "    .dataframe tbody tr th:only-of-type {\n",
       "        vertical-align: middle;\n",
       "    }\n",
       "\n",
       "    .dataframe tbody tr th {\n",
       "        vertical-align: top;\n",
       "    }\n",
       "\n",
       "    .dataframe thead th {\n",
       "        text-align: right;\n",
       "    }\n",
       "</style>\n",
       "<table border=\"1\" class=\"dataframe\">\n",
       "  <thead>\n",
       "    <tr style=\"text-align: right;\">\n",
       "      <th></th>\n",
       "      <th>movie_name</th>\n",
       "      <th>name</th>\n",
       "      <th>review</th>\n",
       "      <th>date</th>\n",
       "      <th>sentiment</th>\n",
       "      <th>rating_out_of_10</th>\n",
       "      <th>rating_sentiment</th>\n",
       "    </tr>\n",
       "  </thead>\n",
       "  <tbody>\n",
       "    <tr>\n",
       "      <th>0</th>\n",
       "      <td>zack_snyders_justice_league</td>\n",
       "      <td>Matt Lynch</td>\n",
       "      <td>Ultimately, that this even exists is almost re...</td>\n",
       "      <td>June 6, 2021</td>\n",
       "      <td>neutral</td>\n",
       "      <td>0.0</td>\n",
       "      <td>unrated</td>\n",
       "    </tr>\n",
       "    <tr>\n",
       "      <th>1</th>\n",
       "      <td>zack_snyders_justice_league</td>\n",
       "      <td>Andrew Dex</td>\n",
       "      <td>The current DC Extended Universe can be a bit ...</td>\n",
       "      <td>May 20, 2021</td>\n",
       "      <td>negative</td>\n",
       "      <td>6.0</td>\n",
       "      <td>Good</td>\n",
       "    </tr>\n",
       "    <tr>\n",
       "      <th>2</th>\n",
       "      <td>zack_snyders_justice_league</td>\n",
       "      <td>Sarah Marrs</td>\n",
       "      <td>While Zack Snyder's Justice League is unquesti...</td>\n",
       "      <td>May 12, 2021</td>\n",
       "      <td>positive</td>\n",
       "      <td>0.0</td>\n",
       "      <td>unrated</td>\n",
       "    </tr>\n",
       "    <tr>\n",
       "      <th>3</th>\n",
       "      <td>zack_snyders_justice_league</td>\n",
       "      <td>Leigh Paatsch</td>\n",
       "      <td>A rip-roaring superhero action picture in its ...</td>\n",
       "      <td>May 12, 2021</td>\n",
       "      <td>neutral</td>\n",
       "      <td>7.0</td>\n",
       "      <td>Good</td>\n",
       "    </tr>\n",
       "    <tr>\n",
       "      <th>4</th>\n",
       "      <td>zack_snyders_justice_league</td>\n",
       "      <td>Matt Hudson</td>\n",
       "      <td>An upgrade to be sure and one that will deligh...</td>\n",
       "      <td>April 29, 2021</td>\n",
       "      <td>positive</td>\n",
       "      <td>7.5</td>\n",
       "      <td>Good</td>\n",
       "    </tr>\n",
       "  </tbody>\n",
       "</table>\n",
       "</div>"
      ],
      "text/plain": [
       "                    movie_name           name  \\\n",
       "0  zack_snyders_justice_league     Matt Lynch   \n",
       "1  zack_snyders_justice_league     Andrew Dex   \n",
       "2  zack_snyders_justice_league    Sarah Marrs   \n",
       "3  zack_snyders_justice_league  Leigh Paatsch   \n",
       "4  zack_snyders_justice_league    Matt Hudson   \n",
       "\n",
       "                                              review            date  \\\n",
       "0  Ultimately, that this even exists is almost re...    June 6, 2021   \n",
       "1  The current DC Extended Universe can be a bit ...    May 20, 2021   \n",
       "2  While Zack Snyder's Justice League is unquesti...    May 12, 2021   \n",
       "3  A rip-roaring superhero action picture in its ...    May 12, 2021   \n",
       "4  An upgrade to be sure and one that will deligh...  April 29, 2021   \n",
       "\n",
       "  sentiment  rating_out_of_10 rating_sentiment  \n",
       "0   neutral               0.0          unrated  \n",
       "1  negative               6.0             Good  \n",
       "2  positive               0.0          unrated  \n",
       "3   neutral               7.0             Good  \n",
       "4  positive               7.5             Good  "
      ]
     },
     "execution_count": 57,
     "metadata": {},
     "output_type": "execute_result"
    }
   ],
   "source": [
    "df2.head()"
   ]
  },
  {
   "cell_type": "code",
   "execution_count": 58,
   "metadata": {},
   "outputs": [],
   "source": [
    "word = df1[\"clean_text\"][1]"
   ]
  },
  {
   "cell_type": "code",
   "execution_count": 59,
   "metadata": {},
   "outputs": [
    {
     "data": {
      "text/plain": [
       "'current dc extended universe bit messy times  proof s backed right minds  hell '"
      ]
     },
     "execution_count": 59,
     "metadata": {},
     "output_type": "execute_result"
    }
   ],
   "source": [
    "word"
   ]
  },
  {
   "cell_type": "code",
   "execution_count": 60,
   "metadata": {},
   "outputs": [],
   "source": [
    "token = nltk.word_tokenize(word)"
   ]
  },
  {
   "cell_type": "code",
   "execution_count": 61,
   "metadata": {},
   "outputs": [
    {
     "data": {
      "text/plain": [
       "'ultimately  exists reason whirl '"
      ]
     },
     "execution_count": 61,
     "metadata": {},
     "output_type": "execute_result"
    }
   ],
   "source": [
    "df1[\"clean_text\"][0]"
   ]
  },
  {
   "cell_type": "code",
   "execution_count": 62,
   "metadata": {},
   "outputs": [],
   "source": [
    "to = len(df1[\"clean_text\"])"
   ]
  },
  {
   "cell_type": "code",
   "execution_count": 63,
   "metadata": {},
   "outputs": [],
   "source": [
    "adjectives = []\n",
    "for i in range(0,to):\n",
    "    sentence = df[\"clean_text\"][i]\n",
    "    token = nltk.word_tokenize(sentence)\n",
    "    for i in token:\n",
    "        x = nltk.pos_tag([i])\n",
    "        if (x[0][1] == \"JJ\" or x[0][1] == \"JJS\" ) :\n",
    "            adjectives.append(i)"
   ]
  },
  {
   "cell_type": "code",
   "execution_count": 64,
   "metadata": {},
   "outputs": [],
   "source": [
    "dict1 = {}\n",
    "for i in adjectives:\n",
    "    dict1[i] = adjectives.count(i)\n",
    "    sorted_d = dict(sorted(dict1.items(), key=operator.itemgetter(1), reverse=True))\n",
    "    final = []\n",
    "    for i in sorted_d.items():\n",
    "        final.append(i[0])"
   ]
  },
  {
   "cell_type": "code",
   "execution_count": 65,
   "metadata": {},
   "outputs": [],
   "source": [
    "attribute_list = final[:15]\n",
    "attribute_list = [i.lower() for i in attribute_list if (3 <= len(i) <= 12)]"
   ]
  },
  {
   "cell_type": "code",
   "execution_count": 66,
   "metadata": {},
   "outputs": [
    {
     "data": {
      "text/plain": [
       "['spanish',\n",
       " 'best',\n",
       " 'good',\n",
       " 'cinematic',\n",
       " 'emotional',\n",
       " 'new',\n",
       " 'great',\n",
       " 'big',\n",
       " 'ambitious',\n",
       " 'real',\n",
       " 'little',\n",
       " 'narrative',\n",
       " 'hard',\n",
       " 'visual',\n",
       " 'original']"
      ]
     },
     "execution_count": 66,
     "metadata": {},
     "output_type": "execute_result"
    }
   ],
   "source": [
    "attribute_list"
   ]
  },
  {
   "cell_type": "code",
   "execution_count": 67,
   "metadata": {},
   "outputs": [
    {
     "data": {
      "text/plain": [
       "<matplotlib.image.AxesImage at 0x1591096e100>"
      ]
     },
     "execution_count": 67,
     "metadata": {},
     "output_type": "execute_result"
    },
    {
     "data": {
      "image/png": "[encoded data removed]",
      "text/plain": [
       "<Figure size 1080x576 with 1 Axes>"
      ]
     },
     "metadata": {
      "needs_background": "light"
     },
     "output_type": "display_data"
    }
   ],
   "source": [
    "wordcloud = WordCloud(background_color='white',width = 1000, height = 500).generate_from_frequencies(dict1)\n",
    "\n",
    "plt.figure(figsize=(15,8))\n",
    "plt.axis(\"off\")\n",
    "plt.imshow(wordcloud)"
   ]
  },
  {
   "cell_type": "code",
   "execution_count": 68,
   "metadata": {},
   "outputs": [],
   "source": [
    "dfnew = df2.groupby(\"sentiment\").agg('count')\n"
   ]
  },
  {
   "cell_type": "code",
   "execution_count": 69,
   "metadata": {},
   "outputs": [
    {
     "data": {
      "text/plain": [
       "<AxesSubplot:>"
      ]
     },
     "execution_count": 69,
     "metadata": {},
     "output_type": "execute_result"
    },
    {
     "data": {
      "image/png": "[encoded data removed]",
      "text/plain": [
       "<Figure size 432x288 with 1 Axes>"
      ]
     },
     "metadata": {},
     "output_type": "display_data"
    }
   ],
   "source": [
    "explode = [0.03,0.5,0.1] # To slice the perticuler section\n",
    "textprops = {\"fontsize\":13} # Font size of text in pie chart\n",
    " \n",
    "dfnew[\"review\"].plot.pie(radius = 1.5,autopct = \"%0.2f%%\",shadow = True,explode = explode,textprops =textprops,legend=False,ylabel=\"\")"
   ]
  },
  {
   "cell_type": "code",
   "execution_count": 70,
   "metadata": {},
   "outputs": [],
   "source": [
    "dfnew1 = df2.groupby(\"rating_sentiment\").agg('count')"
   ]
  },
  {
   "cell_type": "code",
   "execution_count": 71,
   "metadata": {},
   "outputs": [
    {
     "data": {
      "text/plain": [
       "<AxesSubplot:>"
      ]
     },
     "execution_count": 71,
     "metadata": {},
     "output_type": "execute_result"
    },
    {
     "data": {
      "image/png": "[encoded data removed]",
      "text/plain": [
       "<Figure size 432x288 with 1 Axes>"
      ]
     },
     "metadata": {},
     "output_type": "display_data"
    }
   ],
   "source": [
    "explode = [0.03,0.1,0.1,0.1,0.1] # To slice the perticuler section\n",
    "textprops = {\"fontsize\":15} # Font size of text in pie chart\n",
    " \n",
    "dfnew1[\"sentiment\"].plot.pie(radius = 1.5,autopct = \"%0.2f%%\",shadow = True,explode = explode,textprops =textprops,legend=False,ylabel=\"\")"
   ]
  },
  {
   "cell_type": "code",
   "execution_count": 72,
   "metadata": {},
   "outputs": [],
   "source": [
    "dfnew2 = df2.groupby('movie_name')['sentiment'].value_counts().unstack().fillna(0)"
   ]
  },
  {
   "cell_type": "code",
   "execution_count": 73,
   "metadata": {},
   "outputs": [
    {
     "data": {
      "text/plain": [
       "<AxesSubplot:ylabel='movie_name'>"
      ]
     },
     "execution_count": 73,
     "metadata": {},
     "output_type": "execute_result"
    },
    {
     "data": {
      "image/png": "[encoded data removed]",
      "text/plain": [
       "<Figure size 720x576 with 1 Axes>"
      ]
     },
     "metadata": {
      "needs_background": "light"
     },
     "output_type": "display_data"
    }
   ],
   "source": [
    "dfnew2.plot(kind='barh', stacked=False, figsize=(10,8), width=0.9  )"
   ]
  },
  {
   "cell_type": "code",
   "execution_count": 74,
   "metadata": {},
   "outputs": [],
   "source": [
    "dfnew3 = df2.groupby('movie_name')['rating_sentiment'].value_counts().unstack().fillna(0)"
   ]
  },
  {
   "cell_type": "code",
   "execution_count": 75,
   "metadata": {},
   "outputs": [
    {
     "data": {
      "text/plain": [
       "<AxesSubplot:ylabel='movie_name'>"
      ]
     },
     "execution_count": 75,
     "metadata": {},
     "output_type": "execute_result"
    },
    {
     "data": {
      "image/png": "[encoded data removed]",
      "text/plain": [
       "<Figure size 720x576 with 1 Axes>"
      ]
     },
     "metadata": {
      "needs_background": "light"
     },
     "output_type": "display_data"
    }
   ],
   "source": [
    "dfnew3.plot(kind='barh', stacked=False, figsize=(10,8), width=0.9 )"
   ]
  },
  {
   "cell_type": "code",
   "execution_count": 76,
   "metadata": {},
   "outputs": [],
   "source": [
    "c = df2.iloc[1]"
   ]
  },
  {
   "cell_type": "code",
   "execution_count": 77,
   "metadata": {},
   "outputs": [
    {
     "data": {
      "text/plain": [
       "'zack_snyders_justice_league'"
      ]
     },
     "execution_count": 77,
     "metadata": {},
     "output_type": "execute_result"
    }
   ],
   "source": [
    "c[\"movie_name\"]"
   ]
  },
  {
   "cell_type": "code",
   "execution_count": 78,
   "metadata": {},
   "outputs": [
    {
     "data": {
      "text/html": [
       "<div>\n",
       "<style scoped>\n",
       "    .dataframe tbody tr th:only-of-type {\n",
       "        vertical-align: middle;\n",
       "    }\n",
       "\n",
       "    .dataframe tbody tr th {\n",
       "        vertical-align: top;\n",
       "    }\n",
       "\n",
       "    .dataframe thead th {\n",
       "        text-align: right;\n",
       "    }\n",
       "</style>\n",
       "<table border=\"1\" class=\"dataframe\">\n",
       "  <thead>\n",
       "    <tr style=\"text-align: right;\">\n",
       "      <th></th>\n",
       "      <th>movie_name</th>\n",
       "      <th>name</th>\n",
       "      <th>review</th>\n",
       "      <th>date</th>\n",
       "      <th>sentiment</th>\n",
       "      <th>rating_out_of_10</th>\n",
       "      <th>rating_sentiment</th>\n",
       "    </tr>\n",
       "  </thead>\n",
       "  <tbody>\n",
       "    <tr>\n",
       "      <th>0</th>\n",
       "      <td>zack_snyders_justice_league</td>\n",
       "      <td>Matt Lynch</td>\n",
       "      <td>Ultimately, that this even exists is almost re...</td>\n",
       "      <td>June 6, 2021</td>\n",
       "      <td>neutral</td>\n",
       "      <td>0.0</td>\n",
       "      <td>unrated</td>\n",
       "    </tr>\n",
       "    <tr>\n",
       "      <th>1</th>\n",
       "      <td>zack_snyders_justice_league</td>\n",
       "      <td>Andrew Dex</td>\n",
       "      <td>The current DC Extended Universe can be a bit ...</td>\n",
       "      <td>May 20, 2021</td>\n",
       "      <td>negative</td>\n",
       "      <td>6.0</td>\n",
       "      <td>Good</td>\n",
       "    </tr>\n",
       "    <tr>\n",
       "      <th>2</th>\n",
       "      <td>zack_snyders_justice_league</td>\n",
       "      <td>Sarah Marrs</td>\n",
       "      <td>While Zack Snyder's Justice League is unquesti...</td>\n",
       "      <td>May 12, 2021</td>\n",
       "      <td>positive</td>\n",
       "      <td>0.0</td>\n",
       "      <td>unrated</td>\n",
       "    </tr>\n",
       "  </tbody>\n",
       "</table>\n",
       "</div>"
      ],
      "text/plain": [
       "                    movie_name         name  \\\n",
       "0  zack_snyders_justice_league   Matt Lynch   \n",
       "1  zack_snyders_justice_league   Andrew Dex   \n",
       "2  zack_snyders_justice_league  Sarah Marrs   \n",
       "\n",
       "                                              review          date sentiment  \\\n",
       "0  Ultimately, that this even exists is almost re...  June 6, 2021   neutral   \n",
       "1  The current DC Extended Universe can be a bit ...  May 20, 2021  negative   \n",
       "2  While Zack Snyder's Justice League is unquesti...  May 12, 2021  positive   \n",
       "\n",
       "   rating_out_of_10 rating_sentiment  \n",
       "0               0.0          unrated  \n",
       "1               6.0             Good  \n",
       "2               0.0          unrated  "
      ]
     },
     "execution_count": 78,
     "metadata": {},
     "output_type": "execute_result"
    }
   ],
   "source": [
    "df2.head(3)"
   ]
  },
  {
   "cell_type": "code",
   "execution_count": 79,
   "metadata": {},
   "outputs": [],
   "source": [
    "pos_str = []\n",
    "negative_str = []\n",
    "neutral_str = []\n",
    "s =len(df1)\n",
    "for i in range(0,s):\n",
    "    data = df1.iloc[i]\n",
    "    s_ment = data[\"sentiment\"]\n",
    "    s_review = data[\"review\"]\n",
    "    if s_ment == \"positive\":\n",
    "        pos_str.append(s_review)\n",
    "    elif s_ment == \"negative\":\n",
    "        negative_str.append(s_review)\n",
    "    elif s_ment == \"neutral\":\n",
    "        neutral_str.append(s_review)"
   ]
  },
  {
   "cell_type": "code",
   "execution_count": 80,
   "metadata": {},
   "outputs": [],
   "source": [
    "#total_data = pos_str+negative_str"
   ]
  },
  {
   "cell_type": "code",
   "execution_count": 81,
   "metadata": {},
   "outputs": [],
   "source": [
    "# count = [total_data.count(i) for i in attribute_list]\n",
    "# attribute_list_count = {}\n",
    "# for i in attribute_list:\n",
    "#     attribute_list_count[i] = total_data.count(i)\n",
    "#         # print('attribute _list count --',attribute_list_count)\n",
    "# dict1 = {}\n",
    "# if (len(attribute_list) >= 10):\n",
    "#     attribute_list = attribute_list[:10]\n",
    "# else:\n",
    "#     pass\n",
    "# for i in attribute_list:\n",
    "# # dict1[i] = (whole_neg_data.count(i) / attribute_list_count[i], whole_pos_data.count(i) / attribute_list_count[i])\n",
    "#     dict1[i] = (negative_str.count(i), pos_str.count(i))\n",
    "#     dict1[\"count\"] = [total_data.count(i) for i in attribute_list]"
   ]
  },
  {
   "cell_type": "code",
   "execution_count": 82,
   "metadata": {},
   "outputs": [],
   "source": [
    "adjectives_pos = []\n",
    "adjectives_neg = []\n",
    "adjectives_neu = []\n",
    "for i in pos_str:\n",
    "    sentence = i\n",
    "    token = nltk.word_tokenize(sentence)\n",
    "    for i in token:\n",
    "        x = nltk.pos_tag([i])\n",
    "        if (x[0][1] == \"JJ\" or x[0][1] == \"JJS\" ) :\n",
    "            adjectives_pos.append(i)\n",
    "            \n",
    "for i in negative_str:\n",
    "    sentence = i\n",
    "    token = nltk.word_tokenize(sentence)\n",
    "    for i in token:\n",
    "        x = nltk.pos_tag([i])\n",
    "        if (x[0][1] == \"JJ\" or x[0][1] == \"JJS\" ) :\n",
    "            adjectives_neg.append(i)\n",
    "\n",
    "for i in neutral_str:\n",
    "    sentence = i\n",
    "    token = nltk.word_tokenize(sentence)\n",
    "    for i in token:\n",
    "        x = nltk.pos_tag([i])\n",
    "        if (x[0][1] == \"JJ\" or x[0][1] == \"JJS\" ) :\n",
    "            adjectives_neg.append(i)"
   ]
  },
  {
   "cell_type": "code",
   "execution_count": null,
   "metadata": {},
   "outputs": [],
   "source": []
  }
 ],
 "metadata": {
  "kernelspec": {
   "display_name": "Python 3",
   "language": "python",
   "name": "python3"
  },
  "language_info": {
   "codemirror_mode": {
    "name": "ipython",
    "version": 3
   },
   "file_extension": ".py",
   "mimetype": "text/x-python",
   "name": "python",
   "nbconvert_exporter": "python",
   "pygments_lexer": "ipython3",
   "version": "3.8.5"
  }
 },
 "nbformat": 4,
 "nbformat_minor": 4
}
