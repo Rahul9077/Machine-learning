{
 "cells": [
  {
   "cell_type": "code",
   "execution_count": 1,
   "metadata": {},
   "outputs": [],
   "source": [
    "from requests import get"
   ]
  },
  {
   "cell_type": "code",
   "execution_count": 2,
   "metadata": {},
   "outputs": [],
   "source": [
    "url = get(\"https://www.imdb.com/search/title/?count=100&groups=top_1000&sort=user_rating\")"
   ]
  },
  {
   "cell_type": "code",
   "execution_count": 3,
   "metadata": {},
   "outputs": [],
   "source": [
    "request = url.text"
   ]
  },
  {
   "cell_type": "code",
   "execution_count": 4,
   "metadata": {},
   "outputs": [],
   "source": [
    "from bs4 import BeautifulSoup as Soup"
   ]
  },
  {
   "cell_type": "code",
   "execution_count": 5,
   "metadata": {},
   "outputs": [],
   "source": [
    "data = Soup(request,'html.parser')"
   ]
  },
  {
   "cell_type": "code",
   "execution_count": 6,
   "metadata": {},
   "outputs": [
    {
     "data": {
      "text/plain": [
       "'IMDb \"Top 1000\"\\n(Sorted by IMDb Rating Descending) - IMDb'"
      ]
     },
     "execution_count": 6,
     "metadata": {},
     "output_type": "execute_result"
    }
   ],
   "source": [
    "data.title.text"
   ]
  },
  {
   "cell_type": "code",
   "execution_count": 7,
   "metadata": {},
   "outputs": [],
   "source": [
    "movie = data.findAll('div',{'class':'lister-item mode-advanced'})"
   ]
  },
  {
   "cell_type": "code",
   "execution_count": 8,
   "metadata": {},
   "outputs": [],
   "source": [
    "first = movie[0]"
   ]
  },
  {
   "cell_type": "code",
   "execution_count": 9,
   "metadata": {},
   "outputs": [
    {
     "data": {
      "text/plain": [
       "<div class=\"lister-item mode-advanced\">\n",
       "<div class=\"lister-top-right\">\n",
       "<div class=\"ribbonize\" data-caller=\"filmosearch\" data-tconst=\"tt0111161\"></div>\n",
       "</div>\n",
       "<div class=\"lister-item-image float-left\">\n",
       "<a href=\"/title/tt0111161/\"> <img alt=\"The Shawshank Redemption\" class=\"loadlate\" data-tconst=\"tt0111161\" height=\"98\" loadlate=\"https://m.media-amazon.com/images/M/MV5BMDFkYTc0MGEtZmNhMC00ZDIzLWFmNTEtODM1ZmRlYWMwMWFmXkEyXkFqcGdeQXVyMTMxODk2OTU@._V1_UX67_CR0,0,67,98_AL_.jpg\" src=\"https://m.media-amazon.com/images/S/sash/4FyxwxECzL-U1J8.png\" width=\"67\"/>\n",
       "</a> </div>\n",
       "<div class=\"lister-item-content\">\n",
       "<h3 class=\"lister-item-header\">\n",
       "<span class=\"lister-item-index unbold text-primary\">1.</span>\n",
       "<a href=\"/title/tt0111161/\">The Shawshank Redemption</a>\n",
       "<span class=\"lister-item-year text-muted unbold\">(1994)</span>\n",
       "</h3>\n",
       "<p class=\"text-muted\">\n",
       "<span class=\"certificate\">A</span>\n",
       "<span class=\"ghost\">|</span>\n",
       "<span class=\"runtime\">142 min</span>\n",
       "<span class=\"ghost\">|</span>\n",
       "<span class=\"genre\">\n",
       "Drama            </span>\n",
       "</p>\n",
       "<div class=\"ratings-bar\">\n",
       "<div class=\"inline-block ratings-imdb-rating\" data-value=\"9.3\" name=\"ir\">\n",
       "<span class=\"global-sprite rating-star imdb-rating\"></span>\n",
       "<strong>9.3</strong>\n",
       "</div>\n",
       "<div class=\"inline-block ratings-user-rating\">\n",
       "<span class=\"userRatingValue\" data-tconst=\"tt0111161\" id=\"urv_tt0111161\">\n",
       "<span class=\"global-sprite rating-star no-rating\"></span>\n",
       "<span class=\"rate\" data-no-rating=\"Rate this\" data-value=\"0\" name=\"ur\">Rate this</span>\n",
       "</span>\n",
       "<div class=\"starBarWidget\" id=\"sb_tt0111161\">\n",
       "<div class=\"rating rating-list\" data-csrf-token=\"\" data-ga-identifier=\"\" data-starbar-class=\"rating-list\" data-user=\"\" id=\"tt0111161|imdb|9.3|9.3|adv_li_tt||advsearch|title\" itemprop=\"aggregateRating\" itemscope=\"\" itemtype=\"http://schema.org/AggregateRating\" title=\"Users rated this 9.3/10 (2,360,214 votes) - click stars to rate\">\n",
       "<meta content=\"9.3\" itemprop=\"ratingValue\"/>\n",
       "<meta content=\"10\" itemprop=\"bestRating\"/>\n",
       "<meta content=\"2360214\" itemprop=\"ratingCount\"/>\n",
       "<span class=\"rating-bg\"> </span>\n",
       "<span class=\"rating-imdb\" style=\"width: 130.2px\"> </span>\n",
       "<span class=\"rating-stars\">\n",
       "<a href=\"/register/login?why=vote\" rel=\"nofollow\" title=\"Register or login to rate this title\"><span>1</span></a>\n",
       "<a href=\"/register/login?why=vote\" rel=\"nofollow\" title=\"Register or login to rate this title\"><span>2</span></a>\n",
       "<a href=\"/register/login?why=vote\" rel=\"nofollow\" title=\"Register or login to rate this title\"><span>3</span></a>\n",
       "<a href=\"/register/login?why=vote\" rel=\"nofollow\" title=\"Register or login to rate this title\"><span>4</span></a>\n",
       "<a href=\"/register/login?why=vote\" rel=\"nofollow\" title=\"Register or login to rate this title\"><span>5</span></a>\n",
       "<a href=\"/register/login?why=vote\" rel=\"nofollow\" title=\"Register or login to rate this title\"><span>6</span></a>\n",
       "<a href=\"/register/login?why=vote\" rel=\"nofollow\" title=\"Register or login to rate this title\"><span>7</span></a>\n",
       "<a href=\"/register/login?why=vote\" rel=\"nofollow\" title=\"Register or login to rate this title\"><span>8</span></a>\n",
       "<a href=\"/register/login?why=vote\" rel=\"nofollow\" title=\"Register or login to rate this title\"><span>9</span></a>\n",
       "<a href=\"/register/login?why=vote\" rel=\"nofollow\" title=\"Register or login to rate this title\"><span>10</span></a>\n",
       "</span>\n",
       "<span class=\"rating-rating\"><span class=\"value\">9.3</span><span class=\"grey\">/</span><span class=\"grey\">10</span></span>\n",
       "<span class=\"rating-cancel\"><a href=\"/title/tt0111161/vote\" rel=\"nofollow\" title=\"Delete\"><span>X</span></a></span>\n",
       " </div>\n",
       "</div>\n",
       "</div>\n",
       "<div class=\"inline-block ratings-metascore\">\n",
       "<span class=\"metascore favorable\">80        </span>\n",
       "        Metascore\n",
       "            </div>\n",
       "</div>\n",
       "<p class=\"text-muted\">\n",
       "    Two imprisoned men bond over a number of years, finding solace and eventual redemption through acts of common decency.</p>\n",
       "<p class=\"\">\n",
       "    Director:\n",
       "<a href=\"/name/nm0001104/\">Frank Darabont</a>\n",
       "<span class=\"ghost\">|</span> \n",
       "    Stars:\n",
       "<a href=\"/name/nm0000209/\">Tim Robbins</a>, \n",
       "<a href=\"/name/nm0000151/\">Morgan Freeman</a>, \n",
       "<a href=\"/name/nm0348409/\">Bob Gunton</a>, \n",
       "<a href=\"/name/nm0006669/\">William Sadler</a>\n",
       "</p>\n",
       "<p class=\"sort-num_votes-visible\">\n",
       "<span class=\"text-muted\">Votes:</span>\n",
       "<span data-value=\"2360214\" name=\"nv\">2,360,214</span>\n",
       "<span class=\"ghost\">|</span> <span class=\"text-muted\">Gross:</span>\n",
       "<span data-value=\"28,341,469\" name=\"nv\">$28.34M</span>\n",
       "</p>\n",
       "</div>\n",
       "</div>"
      ]
     },
     "execution_count": 9,
     "metadata": {},
     "output_type": "execute_result"
    }
   ],
   "source": [
    "first"
   ]
  },
  {
   "cell_type": "code",
   "execution_count": 10,
   "metadata": {},
   "outputs": [
    {
     "data": {
      "text/plain": [
       "'The Shawshank Redemption'"
      ]
     },
     "execution_count": 10,
     "metadata": {},
     "output_type": "execute_result"
    }
   ],
   "source": [
    "first.h3.a.text #name "
   ]
  },
  {
   "cell_type": "code",
   "execution_count": 11,
   "metadata": {},
   "outputs": [
    {
     "data": {
      "text/plain": [
       "'1994'"
      ]
     },
     "execution_count": 11,
     "metadata": {},
     "output_type": "execute_result"
    }
   ],
   "source": [
    "first.find('span',{'class':'lister-item-year text-muted unbold'}).text[1:5] #year"
   ]
  },
  {
   "cell_type": "code",
   "execution_count": 12,
   "metadata": {},
   "outputs": [
    {
     "data": {
      "text/plain": [
       "'A'"
      ]
     },
     "execution_count": 12,
     "metadata": {},
     "output_type": "execute_result"
    }
   ],
   "source": [
    "first.find('span',{'class':'certificate'}).text #certificate"
   ]
  },
  {
   "cell_type": "code",
   "execution_count": 13,
   "metadata": {},
   "outputs": [
    {
     "data": {
      "text/plain": [
       "'142'"
      ]
     },
     "execution_count": 13,
     "metadata": {},
     "output_type": "execute_result"
    }
   ],
   "source": [
    "first.find('span',{'class':'runtime'}).text[0:3] #time"
   ]
  },
  {
   "cell_type": "code",
   "execution_count": 14,
   "metadata": {},
   "outputs": [
    {
     "data": {
      "text/plain": [
       "'Drama'"
      ]
     },
     "execution_count": 14,
     "metadata": {},
     "output_type": "execute_result"
    }
   ],
   "source": [
    "first.find('span',{'class':'genre'}).text.strip() #category"
   ]
  },
  {
   "cell_type": "code",
   "execution_count": 15,
   "metadata": {},
   "outputs": [
    {
     "data": {
      "text/plain": [
       "'9.3'"
      ]
     },
     "execution_count": 15,
     "metadata": {},
     "output_type": "execute_result"
    }
   ],
   "source": [
    "first.find('div',{'class':'inline-block ratings-imdb-rating'})['data-value']  #rating"
   ]
  },
  {
   "cell_type": "code",
   "execution_count": 16,
   "metadata": {},
   "outputs": [
    {
     "data": {
      "text/plain": [
       "'80'"
      ]
     },
     "execution_count": 16,
     "metadata": {},
     "output_type": "execute_result"
    }
   ],
   "source": [
    "first.find('div',{'class':'inline-block ratings-metascore'}).span.text.strip() #metascore"
   ]
  },
  {
   "cell_type": "code",
   "execution_count": 17,
   "metadata": {},
   "outputs": [
    {
     "data": {
      "text/plain": [
       "'Frank Darabont'"
      ]
     },
     "execution_count": 17,
     "metadata": {},
     "output_type": "execute_result"
    }
   ],
   "source": [
    "first.find('p',{'class':''}).a.text #director"
   ]
  },
  {
   "cell_type": "code",
   "execution_count": 18,
   "metadata": {},
   "outputs": [
    {
     "data": {
      "text/plain": [
       "'Tim Robbins'"
      ]
     },
     "execution_count": 18,
     "metadata": {},
     "output_type": "execute_result"
    }
   ],
   "source": [
    "first.find('p',{'class':''}).findAll('a')[1].text #lead actor"
   ]
  },
  {
   "cell_type": "code",
   "execution_count": 19,
   "metadata": {},
   "outputs": [
    {
     "data": {
      "text/plain": [
       "'$28.34M'"
      ]
     },
     "execution_count": 19,
     "metadata": {},
     "output_type": "execute_result"
    }
   ],
   "source": [
    "first.find('p',{'class':'sort-num_votes-visible'}).findAll('span')[4].text #gross profit "
   ]
  },
  {
   "cell_type": "code",
   "execution_count": 20,
   "metadata": {},
   "outputs": [
    {
     "data": {
      "text/plain": [
       "'2,360,214'"
      ]
     },
     "execution_count": 20,
     "metadata": {},
     "output_type": "execute_result"
    }
   ],
   "source": [
    "first.find('p',{'class':'sort-num_votes-visible'}).findAll('span')[1].text #Votes"
   ]
  },
  {
   "cell_type": "code",
   "execution_count": 21,
   "metadata": {},
   "outputs": [],
   "source": [
    "Title = []\n",
    "Year = []\n",
    "Certificte = []\n",
    "Time = []\n",
    "Category = []\n",
    "Lead_Actor = []\n",
    "Director = []\n",
    "Gross_profit = []\n",
    "Votes = []\n",
    "Rating = []\n",
    "Metascore = []\n",
    "for i in movie:\n",
    "    Title.append(i.h3.a.text)\n",
    "    Year.append(i.find('span',{'class':'lister-item-year text-muted unbold'}).text[1:5])\n",
    "    try:\n",
    "        Certificte.append(i.find('span',{'class':'certificate'}).text)\n",
    "    except:\n",
    "        Certificte.append(0)\n",
    "    Time.append(i.find('span',{'class':'runtime'}).text[0:3])\n",
    "    Category.append(i.find('span',{'class':'genre'}).text.strip())\n",
    "    Lead_Actor.append(i.find('p',{'class':''}).findAll('a')[1].text)\n",
    "    Director.append(i.find('p',{'class':''}).a.text)\n",
    "    try:\n",
    "        Gross_profit.append(i.find('p',{'class':'sort-num_votes-visible'}).findAll('span')[4].text)\n",
    "    except:\n",
    "        Gross_profit.append(0)\n",
    "    Votes.append(i.find('p',{'class':'sort-num_votes-visible'}).findAll('span')[1].text)\n",
    "    Rating.append(i.find('div',{'class':'inline-block ratings-imdb-rating'})['data-value'])\n",
    "    try:\n",
    "        Metascore.append(i.find('div',{'class':'inline-block ratings-metascore'}).span.text.strip())\n",
    "    except:\n",
    "        Metascore.append(0)"
   ]
  },
  {
   "cell_type": "code",
   "execution_count": 22,
   "metadata": {},
   "outputs": [],
   "source": [
    "data = list(zip(Title,Year,Certificte,Time,Category,Lead_Actor,Director,Gross_profit,Votes,Rating,Metascore))"
   ]
  },
  {
   "cell_type": "code",
   "execution_count": 23,
   "metadata": {},
   "outputs": [],
   "source": [
    "import pandas as pd"
   ]
  },
  {
   "cell_type": "code",
   "execution_count": 24,
   "metadata": {},
   "outputs": [],
   "source": [
    "df = pd.DataFrame(data,columns=['Title','Year','Certificte','Time','Category','Lead_Actor','Director','Gross_profit','Votes','Rating','Metascore'])"
   ]
  },
  {
   "cell_type": "code",
   "execution_count": 25,
   "metadata": {},
   "outputs": [
    {
     "data": {
      "text/html": [
       "<div>\n",
       "<style scoped>\n",
       "    .dataframe tbody tr th:only-of-type {\n",
       "        vertical-align: middle;\n",
       "    }\n",
       "\n",
       "    .dataframe tbody tr th {\n",
       "        vertical-align: top;\n",
       "    }\n",
       "\n",
       "    .dataframe thead th {\n",
       "        text-align: right;\n",
       "    }\n",
       "</style>\n",
       "<table border=\"1\" class=\"dataframe\">\n",
       "  <thead>\n",
       "    <tr style=\"text-align: right;\">\n",
       "      <th></th>\n",
       "      <th>Title</th>\n",
       "      <th>Year</th>\n",
       "      <th>Certificte</th>\n",
       "      <th>Time</th>\n",
       "      <th>Category</th>\n",
       "      <th>Lead_Actor</th>\n",
       "      <th>Director</th>\n",
       "      <th>Gross_profit</th>\n",
       "      <th>Votes</th>\n",
       "      <th>Rating</th>\n",
       "      <th>Metascore</th>\n",
       "    </tr>\n",
       "  </thead>\n",
       "  <tbody>\n",
       "    <tr>\n",
       "      <th>0</th>\n",
       "      <td>The Shawshank Redemption</td>\n",
       "      <td>1994</td>\n",
       "      <td>A</td>\n",
       "      <td>142</td>\n",
       "      <td>Drama</td>\n",
       "      <td>Tim Robbins</td>\n",
       "      <td>Frank Darabont</td>\n",
       "      <td>$28.34M</td>\n",
       "      <td>2,360,214</td>\n",
       "      <td>9.3</td>\n",
       "      <td>80</td>\n",
       "    </tr>\n",
       "    <tr>\n",
       "      <th>1</th>\n",
       "      <td>The Godfather</td>\n",
       "      <td>1972</td>\n",
       "      <td>A</td>\n",
       "      <td>175</td>\n",
       "      <td>Crime, Drama</td>\n",
       "      <td>Marlon Brando</td>\n",
       "      <td>Francis Ford Coppola</td>\n",
       "      <td>$134.97M</td>\n",
       "      <td>1,633,553</td>\n",
       "      <td>9.2</td>\n",
       "      <td>100</td>\n",
       "    </tr>\n",
       "    <tr>\n",
       "      <th>2</th>\n",
       "      <td>The Dark Knight</td>\n",
       "      <td>2008</td>\n",
       "      <td>UA</td>\n",
       "      <td>152</td>\n",
       "      <td>Action, Crime, Drama</td>\n",
       "      <td>Christian Bale</td>\n",
       "      <td>Christopher Nolan</td>\n",
       "      <td>$534.86M</td>\n",
       "      <td>2,319,479</td>\n",
       "      <td>9</td>\n",
       "      <td>84</td>\n",
       "    </tr>\n",
       "    <tr>\n",
       "      <th>3</th>\n",
       "      <td>The Godfather: Part II</td>\n",
       "      <td>1974</td>\n",
       "      <td>A</td>\n",
       "      <td>202</td>\n",
       "      <td>Crime, Drama</td>\n",
       "      <td>Al Pacino</td>\n",
       "      <td>Francis Ford Coppola</td>\n",
       "      <td>$57.30M</td>\n",
       "      <td>1,138,412</td>\n",
       "      <td>9</td>\n",
       "      <td>90</td>\n",
       "    </tr>\n",
       "    <tr>\n",
       "      <th>4</th>\n",
       "      <td>12 Angry Men</td>\n",
       "      <td>1957</td>\n",
       "      <td>U</td>\n",
       "      <td>96</td>\n",
       "      <td>Crime, Drama</td>\n",
       "      <td>Henry Fonda</td>\n",
       "      <td>Sidney Lumet</td>\n",
       "      <td>$4.36M</td>\n",
       "      <td>696,022</td>\n",
       "      <td>9</td>\n",
       "      <td>96</td>\n",
       "    </tr>\n",
       "    <tr>\n",
       "      <th>...</th>\n",
       "      <td>...</td>\n",
       "      <td>...</td>\n",
       "      <td>...</td>\n",
       "      <td>...</td>\n",
       "      <td>...</td>\n",
       "      <td>...</td>\n",
       "      <td>...</td>\n",
       "      <td>...</td>\n",
       "      <td>...</td>\n",
       "      <td>...</td>\n",
       "      <td>...</td>\n",
       "    </tr>\n",
       "    <tr>\n",
       "      <th>95</th>\n",
       "      <td>Amélie</td>\n",
       "      <td>2001</td>\n",
       "      <td>U</td>\n",
       "      <td>122</td>\n",
       "      <td>Comedy, Romance</td>\n",
       "      <td>Audrey Tautou</td>\n",
       "      <td>Jean-Pierre Jeunet</td>\n",
       "      <td>$33.23M</td>\n",
       "      <td>707,369</td>\n",
       "      <td>8.3</td>\n",
       "      <td>69</td>\n",
       "    </tr>\n",
       "    <tr>\n",
       "      <th>96</th>\n",
       "      <td>Snatch</td>\n",
       "      <td>2000</td>\n",
       "      <td>UA</td>\n",
       "      <td>104</td>\n",
       "      <td>Comedy, Crime</td>\n",
       "      <td>Jason Statham</td>\n",
       "      <td>Guy Ritchie</td>\n",
       "      <td>$30.33M</td>\n",
       "      <td>786,416</td>\n",
       "      <td>8.3</td>\n",
       "      <td>55</td>\n",
       "    </tr>\n",
       "    <tr>\n",
       "      <th>97</th>\n",
       "      <td>Requiem for a Dream</td>\n",
       "      <td>2000</td>\n",
       "      <td>A</td>\n",
       "      <td>102</td>\n",
       "      <td>Drama</td>\n",
       "      <td>Ellen Burstyn</td>\n",
       "      <td>Darren Aronofsky</td>\n",
       "      <td>$3.64M</td>\n",
       "      <td>771,906</td>\n",
       "      <td>8.3</td>\n",
       "      <td>68</td>\n",
       "    </tr>\n",
       "    <tr>\n",
       "      <th>98</th>\n",
       "      <td>American Beauty</td>\n",
       "      <td>1999</td>\n",
       "      <td>UA</td>\n",
       "      <td>122</td>\n",
       "      <td>Drama</td>\n",
       "      <td>Kevin Spacey</td>\n",
       "      <td>Sam Mendes</td>\n",
       "      <td>$130.10M</td>\n",
       "      <td>1,075,364</td>\n",
       "      <td>8.3</td>\n",
       "      <td>84</td>\n",
       "    </tr>\n",
       "    <tr>\n",
       "      <th>99</th>\n",
       "      <td>Good Will Hunting</td>\n",
       "      <td>1997</td>\n",
       "      <td>U</td>\n",
       "      <td>126</td>\n",
       "      <td>Drama, Romance</td>\n",
       "      <td>Robin Williams</td>\n",
       "      <td>Gus Van Sant</td>\n",
       "      <td>$138.43M</td>\n",
       "      <td>868,063</td>\n",
       "      <td>8.3</td>\n",
       "      <td>70</td>\n",
       "    </tr>\n",
       "  </tbody>\n",
       "</table>\n",
       "<p>100 rows × 11 columns</p>\n",
       "</div>"
      ],
      "text/plain": [
       "                       Title  Year Certificte Time              Category  \\\n",
       "0   The Shawshank Redemption  1994          A  142                 Drama   \n",
       "1              The Godfather  1972          A  175          Crime, Drama   \n",
       "2            The Dark Knight  2008         UA  152  Action, Crime, Drama   \n",
       "3     The Godfather: Part II  1974          A  202          Crime, Drama   \n",
       "4               12 Angry Men  1957          U  96           Crime, Drama   \n",
       "..                       ...   ...        ...  ...                   ...   \n",
       "95                    Amélie  2001          U  122       Comedy, Romance   \n",
       "96                    Snatch  2000         UA  104         Comedy, Crime   \n",
       "97       Requiem for a Dream  2000          A  102                 Drama   \n",
       "98           American Beauty  1999         UA  122                 Drama   \n",
       "99         Good Will Hunting  1997          U  126        Drama, Romance   \n",
       "\n",
       "        Lead_Actor              Director Gross_profit      Votes Rating  \\\n",
       "0      Tim Robbins        Frank Darabont      $28.34M  2,360,214    9.3   \n",
       "1    Marlon Brando  Francis Ford Coppola     $134.97M  1,633,553    9.2   \n",
       "2   Christian Bale     Christopher Nolan     $534.86M  2,319,479      9   \n",
       "3        Al Pacino  Francis Ford Coppola      $57.30M  1,138,412      9   \n",
       "4      Henry Fonda          Sidney Lumet       $4.36M    696,022      9   \n",
       "..             ...                   ...          ...        ...    ...   \n",
       "95   Audrey Tautou    Jean-Pierre Jeunet      $33.23M    707,369    8.3   \n",
       "96   Jason Statham           Guy Ritchie      $30.33M    786,416    8.3   \n",
       "97   Ellen Burstyn      Darren Aronofsky       $3.64M    771,906    8.3   \n",
       "98    Kevin Spacey            Sam Mendes     $130.10M  1,075,364    8.3   \n",
       "99  Robin Williams          Gus Van Sant     $138.43M    868,063    8.3   \n",
       "\n",
       "   Metascore  \n",
       "0         80  \n",
       "1        100  \n",
       "2         84  \n",
       "3         90  \n",
       "4         96  \n",
       "..       ...  \n",
       "95        69  \n",
       "96        55  \n",
       "97        68  \n",
       "98        84  \n",
       "99        70  \n",
       "\n",
       "[100 rows x 11 columns]"
      ]
     },
     "execution_count": 25,
     "metadata": {},
     "output_type": "execute_result"
    }
   ],
   "source": [
    "df"
   ]
  }
 ],
 "metadata": {
  "kernelspec": {
   "display_name": "Python 3",
   "language": "python",
   "name": "python3"
  },
  "language_info": {
   "codemirror_mode": {
    "name": "ipython",
    "version": 3
   },
   "file_extension": ".py",
   "mimetype": "text/x-python",
   "name": "python",
   "nbconvert_exporter": "python",
   "pygments_lexer": "ipython3",
   "version": "3.8.5"
  }
 },
 "nbformat": 4,
 "nbformat_minor": 4
}
